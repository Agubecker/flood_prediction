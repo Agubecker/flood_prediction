{
 "cells": [
  {
   "cell_type": "code",
   "execution_count": 9,
   "metadata": {},
   "outputs": [],
   "source": [
    "import pandas as pd\n",
    "import numpy as np\n",
    "import sys\n",
    "sys.path.append('../flood_prediction') # going to the parent folder of the current folder\n",
    "from data_prep import get_data_and_targets\n",
    "\n",
    "# Data Visualiation\n",
    "import matplotlib.pyplot as plt\n",
    "import seaborn as sns\n",
    "\n",
    "# Deep Learning\n",
    "import tensorflow as tf"
   ]
  },
  {
   "cell_type": "markdown",
   "metadata": {},
   "source": [
    "# Getting data from API (data_prep.py)"
   ]
  },
  {
   "cell_type": "code",
   "execution_count": 2,
   "metadata": {},
   "outputs": [],
   "source": [
    "df = get_data_and_targets()"
   ]
  },
  {
   "cell_type": "code",
   "execution_count": 5,
   "metadata": {},
   "outputs": [
    {
     "data": {
      "text/plain": [
       "(347685, 10)"
      ]
     },
     "execution_count": 5,
     "metadata": {},
     "output_type": "execute_result"
    }
   ],
   "source": [
    "df.shape"
   ]
  },
  {
   "cell_type": "code",
   "execution_count": 35,
   "metadata": {},
   "outputs": [
    {
     "data": {
      "text/html": [
       "<div>\n",
       "<style scoped>\n",
       "    .dataframe tbody tr th:only-of-type {\n",
       "        vertical-align: middle;\n",
       "    }\n",
       "\n",
       "    .dataframe tbody tr th {\n",
       "        vertical-align: top;\n",
       "    }\n",
       "\n",
       "    .dataframe thead th {\n",
       "        text-align: right;\n",
       "    }\n",
       "</style>\n",
       "<table border=\"1\" class=\"dataframe\">\n",
       "  <thead>\n",
       "    <tr style=\"text-align: right;\">\n",
       "      <th></th>\n",
       "      <th>T(degC)</th>\n",
       "      <th>rain(mm)</th>\n",
       "      <th>surf_press(hPa)</th>\n",
       "      <th>wind_s(km/h)</th>\n",
       "      <th>wind_dir(deg)</th>\n",
       "      <th>soil_moist_0_to_7cm(m3)</th>\n",
       "      <th>soil_moist_7_to_28cm(m3)</th>\n",
       "      <th>radiation(W/m2)</th>\n",
       "      <th>river_discharge(m3/s)</th>\n",
       "    </tr>\n",
       "    <tr>\n",
       "      <th>date</th>\n",
       "      <th></th>\n",
       "      <th></th>\n",
       "      <th></th>\n",
       "      <th></th>\n",
       "      <th></th>\n",
       "      <th></th>\n",
       "      <th></th>\n",
       "      <th></th>\n",
       "      <th></th>\n",
       "    </tr>\n",
       "  </thead>\n",
       "  <tbody>\n",
       "    <tr>\n",
       "      <th>2023-08-30 16:00:00</th>\n",
       "      <td>18.1</td>\n",
       "      <td>0.0</td>\n",
       "      <td>988.1</td>\n",
       "      <td>13.0</td>\n",
       "      <td>194.0</td>\n",
       "      <td>0.420</td>\n",
       "      <td>0.437</td>\n",
       "      <td>683.0</td>\n",
       "      <td>49.58</td>\n",
       "    </tr>\n",
       "    <tr>\n",
       "      <th>2023-08-30 17:00:00</th>\n",
       "      <td>17.9</td>\n",
       "      <td>0.0</td>\n",
       "      <td>987.2</td>\n",
       "      <td>12.6</td>\n",
       "      <td>193.0</td>\n",
       "      <td>0.419</td>\n",
       "      <td>0.436</td>\n",
       "      <td>532.0</td>\n",
       "      <td>49.58</td>\n",
       "    </tr>\n",
       "    <tr>\n",
       "      <th>2023-08-30 18:00:00</th>\n",
       "      <td>17.3</td>\n",
       "      <td>0.0</td>\n",
       "      <td>987.1</td>\n",
       "      <td>11.3</td>\n",
       "      <td>197.0</td>\n",
       "      <td>0.418</td>\n",
       "      <td>0.436</td>\n",
       "      <td>318.0</td>\n",
       "      <td>49.58</td>\n",
       "    </tr>\n",
       "    <tr>\n",
       "      <th>2023-08-30 19:00:00</th>\n",
       "      <td>16.0</td>\n",
       "      <td>0.0</td>\n",
       "      <td>986.4</td>\n",
       "      <td>8.9</td>\n",
       "      <td>201.0</td>\n",
       "      <td>0.418</td>\n",
       "      <td>0.436</td>\n",
       "      <td>136.0</td>\n",
       "      <td>49.58</td>\n",
       "    </tr>\n",
       "    <tr>\n",
       "      <th>2023-08-30 20:00:00</th>\n",
       "      <td>13.9</td>\n",
       "      <td>0.0</td>\n",
       "      <td>986.1</td>\n",
       "      <td>8.6</td>\n",
       "      <td>195.0</td>\n",
       "      <td>0.418</td>\n",
       "      <td>0.436</td>\n",
       "      <td>7.0</td>\n",
       "      <td>49.58</td>\n",
       "    </tr>\n",
       "  </tbody>\n",
       "</table>\n",
       "</div>"
      ],
      "text/plain": [
       "                     T(degC)  rain(mm)  surf_press(hPa)  wind_s(km/h)  \\\n",
       "date                                                                    \n",
       "2023-08-30 16:00:00     18.1       0.0            988.1          13.0   \n",
       "2023-08-30 17:00:00     17.9       0.0            987.2          12.6   \n",
       "2023-08-30 18:00:00     17.3       0.0            987.1          11.3   \n",
       "2023-08-30 19:00:00     16.0       0.0            986.4           8.9   \n",
       "2023-08-30 20:00:00     13.9       0.0            986.1           8.6   \n",
       "\n",
       "                     wind_dir(deg)  soil_moist_0_to_7cm(m3)  \\\n",
       "date                                                          \n",
       "2023-08-30 16:00:00          194.0                    0.420   \n",
       "2023-08-30 17:00:00          193.0                    0.419   \n",
       "2023-08-30 18:00:00          197.0                    0.418   \n",
       "2023-08-30 19:00:00          201.0                    0.418   \n",
       "2023-08-30 20:00:00          195.0                    0.418   \n",
       "\n",
       "                     soil_moist_7_to_28cm(m3)  radiation(W/m2)  \\\n",
       "date                                                             \n",
       "2023-08-30 16:00:00                     0.437            683.0   \n",
       "2023-08-30 17:00:00                     0.436            532.0   \n",
       "2023-08-30 18:00:00                     0.436            318.0   \n",
       "2023-08-30 19:00:00                     0.436            136.0   \n",
       "2023-08-30 20:00:00                     0.436              7.0   \n",
       "\n",
       "                     river_discharge(m3/s)  \n",
       "date                                        \n",
       "2023-08-30 16:00:00                  49.58  \n",
       "2023-08-30 17:00:00                  49.58  \n",
       "2023-08-30 18:00:00                  49.58  \n",
       "2023-08-30 19:00:00                  49.58  \n",
       "2023-08-30 20:00:00                  49.58  "
      ]
     },
     "execution_count": 35,
     "metadata": {},
     "output_type": "execute_result"
    }
   ],
   "source": [
    "df.tail(5)"
   ]
  },
  {
   "cell_type": "code",
   "execution_count": 7,
   "metadata": {},
   "outputs": [
    {
     "data": {
      "text/plain": [
       "(347685, 9)"
      ]
     },
     "execution_count": 7,
     "metadata": {},
     "output_type": "execute_result"
    }
   ],
   "source": [
    "df.drop(columns='target', inplace=True)\n",
    "df.shape"
   ]
  },
  {
   "cell_type": "markdown",
   "metadata": {},
   "source": [
    "# Defining goblal variables of the data set"
   ]
  },
  {
   "cell_type": "code",
   "execution_count": 13,
   "metadata": {},
   "outputs": [],
   "source": [
    "TARGET = 'river_discharge(m3/s)'\n",
    "N_TARGETS = 1\n",
    "N_FEATURES = 8"
   ]
  },
  {
   "cell_type": "code",
   "execution_count": 14,
   "metadata": {},
   "outputs": [
    {
     "data": {
      "image/png": "[encoded data removed]",
      "text/plain": [
       "<Figure size 640x480 with 3 Axes>"
      ]
     },
     "metadata": {},
     "output_type": "display_data"
    }
   ],
   "source": [
    "plot_cols = [TARGET, 'surf_press(hPa)', 'rain(mm)']\n",
    "plot_features = df[plot_cols]\n",
    "plot_features.index = df.index\n",
    "plot_features.plot(subplots = True);"
   ]
  },
  {
   "cell_type": "code",
   "execution_count": 16,
   "metadata": {},
   "outputs": [],
   "source": [
    "DATA = dict(\n",
    "    length = 347685, # How many timesteps does your dataset contains?\n",
    "    n_covariates = 8, # number of past covariates, excluding target time series. Our tests do not support future_covariate yet.\n",
    "    target_column_idx = [0] # List of index(es) of target column(s) in your dataset. e.g [0] for Mono-target problem, e.g. [0,1,4] for multi-variate targets problem. Note that past targets values will also be used as features X.\n",
    ")"
   ]
  },
  {
   "cell_type": "markdown",
   "metadata": {},
   "source": [
    "# Creating Folds"
   ]
  },
  {
   "cell_type": "markdown",
   "metadata": {},
   "source": [
    "### Defining global variables"
   ]
  },
  {
   "cell_type": "code",
   "execution_count": 17,
   "metadata": {},
   "outputs": [],
   "source": [
    "# Considering folds of 1 year\n",
    "FOLD_LENGTH = 24 * 365\n",
    "\n",
    "# Folds starting every trimester\n",
    "FOLD_STRIDE = 24 * 91  # 1 quarter = 91 days\n",
    "\n",
    "# train-test-split ratio of 2/3 \n",
    "TRAIN_TEST_RATIO = 0.66"
   ]
  },
  {
   "cell_type": "markdown",
   "metadata": {},
   "source": [
    "### Function to get folds"
   ]
  },
  {
   "cell_type": "code",
   "execution_count": 19,
   "metadata": {},
   "outputs": [],
   "source": [
    "def get_folds(\n",
    "    df: pd.DataFrame,\n",
    "    fold_length: int,\n",
    "    fold_stride: int) -> list[pd.DataFrame]:\n",
    "    \"\"\"    \n",
    "    This function slides through the Time Series dataframe of shape (n_timesteps, n_features) to create folds\n",
    "    - of equal `fold_length`\n",
    "    - using `fold_stride` between each fold\n",
    "\n",
    "    Args:\n",
    "        df (pd.DataFrame): Overall dataframe\n",
    "        fold_length (int): How long each fold should be in rows\n",
    "        fold_stride (int): How many timesteps to move forward between taking each fold\n",
    "\n",
    "    Returns:\n",
    "        List[pd.DataFrame]: A list where each fold is a dataframe within\n",
    "    \"\"\"\n",
    " \n",
    "    \n",
    "    folds = []\n",
    "    for idx in range(0, len(df), fold_stride):\n",
    "        # Exits the loop as soon as the last fold index would exceed the last index\n",
    "        if (idx + fold_length) > len(df):\n",
    "            break\n",
    "        fold = df.iloc[idx:idx + fold_length, :]\n",
    "        folds.append(fold)\n",
    "    return folds"
   ]
  },
  {
   "cell_type": "code",
   "execution_count": 21,
   "metadata": {},
   "outputs": [
    {
     "name": "stdout",
     "output_type": "stream",
     "text": [
      "The function generated 156 folds.\n",
      "Each fold has a shape equal to (8760, 9).\n"
     ]
    }
   ],
   "source": [
    "folds = get_folds(df, FOLD_LENGTH, FOLD_STRIDE)\n",
    "print(f'The function generated {len(folds)} folds.')\n",
    "print(f'Each fold has a shape equal to {folds[0].shape}.')"
   ]
  },
  {
   "cell_type": "code",
   "execution_count": 24,
   "metadata": {},
   "outputs": [
    {
     "data": {
      "text/html": [
       "<div>\n",
       "<style scoped>\n",
       "    .dataframe tbody tr th:only-of-type {\n",
       "        vertical-align: middle;\n",
       "    }\n",
       "\n",
       "    .dataframe tbody tr th {\n",
       "        vertical-align: top;\n",
       "    }\n",
       "\n",
       "    .dataframe thead th {\n",
       "        text-align: right;\n",
       "    }\n",
       "</style>\n",
       "<table border=\"1\" class=\"dataframe\">\n",
       "  <thead>\n",
       "    <tr style=\"text-align: right;\">\n",
       "      <th></th>\n",
       "      <th>T(degC)</th>\n",
       "      <th>rain(mm)</th>\n",
       "      <th>surf_press(hPa)</th>\n",
       "      <th>wind_s(km/h)</th>\n",
       "      <th>wind_dir(deg)</th>\n",
       "      <th>soil_moist_0_to_7cm(m3)</th>\n",
       "      <th>soil_moist_7_to_28cm(m3)</th>\n",
       "      <th>radiation(W/m2)</th>\n",
       "      <th>river_discharge(m3/s)</th>\n",
       "    </tr>\n",
       "    <tr>\n",
       "      <th>date</th>\n",
       "      <th></th>\n",
       "      <th></th>\n",
       "      <th></th>\n",
       "      <th></th>\n",
       "      <th></th>\n",
       "      <th></th>\n",
       "      <th></th>\n",
       "      <th></th>\n",
       "      <th></th>\n",
       "    </tr>\n",
       "  </thead>\n",
       "  <tbody>\n",
       "    <tr>\n",
       "      <th>1984-01-01 00:00:00</th>\n",
       "      <td>19.2</td>\n",
       "      <td>0.0</td>\n",
       "      <td>982.1</td>\n",
       "      <td>4.5</td>\n",
       "      <td>331.0</td>\n",
       "      <td>0.251</td>\n",
       "      <td>0.278</td>\n",
       "      <td>0.0</td>\n",
       "      <td>48.77</td>\n",
       "    </tr>\n",
       "    <tr>\n",
       "      <th>1984-01-01 01:00:00</th>\n",
       "      <td>19.1</td>\n",
       "      <td>0.0</td>\n",
       "      <td>981.9</td>\n",
       "      <td>4.5</td>\n",
       "      <td>331.0</td>\n",
       "      <td>0.251</td>\n",
       "      <td>0.278</td>\n",
       "      <td>0.0</td>\n",
       "      <td>48.77</td>\n",
       "    </tr>\n",
       "    <tr>\n",
       "      <th>1984-01-01 02:00:00</th>\n",
       "      <td>18.6</td>\n",
       "      <td>0.0</td>\n",
       "      <td>982.0</td>\n",
       "      <td>4.1</td>\n",
       "      <td>345.0</td>\n",
       "      <td>0.251</td>\n",
       "      <td>0.278</td>\n",
       "      <td>0.0</td>\n",
       "      <td>48.77</td>\n",
       "    </tr>\n",
       "    <tr>\n",
       "      <th>1984-01-01 03:00:00</th>\n",
       "      <td>18.2</td>\n",
       "      <td>0.0</td>\n",
       "      <td>981.9</td>\n",
       "      <td>3.6</td>\n",
       "      <td>6.0</td>\n",
       "      <td>0.251</td>\n",
       "      <td>0.278</td>\n",
       "      <td>0.0</td>\n",
       "      <td>48.77</td>\n",
       "    </tr>\n",
       "    <tr>\n",
       "      <th>1984-01-01 04:00:00</th>\n",
       "      <td>17.7</td>\n",
       "      <td>0.0</td>\n",
       "      <td>981.9</td>\n",
       "      <td>3.7</td>\n",
       "      <td>11.0</td>\n",
       "      <td>0.251</td>\n",
       "      <td>0.278</td>\n",
       "      <td>0.0</td>\n",
       "      <td>48.77</td>\n",
       "    </tr>\n",
       "    <tr>\n",
       "      <th>...</th>\n",
       "      <td>...</td>\n",
       "      <td>...</td>\n",
       "      <td>...</td>\n",
       "      <td>...</td>\n",
       "      <td>...</td>\n",
       "      <td>...</td>\n",
       "      <td>...</td>\n",
       "      <td>...</td>\n",
       "      <td>...</td>\n",
       "    </tr>\n",
       "    <tr>\n",
       "      <th>1984-12-30 19:00:00</th>\n",
       "      <td>24.9</td>\n",
       "      <td>0.0</td>\n",
       "      <td>980.7</td>\n",
       "      <td>13.8</td>\n",
       "      <td>242.0</td>\n",
       "      <td>0.258</td>\n",
       "      <td>0.279</td>\n",
       "      <td>460.0</td>\n",
       "      <td>85.30</td>\n",
       "    </tr>\n",
       "    <tr>\n",
       "      <th>1984-12-30 20:00:00</th>\n",
       "      <td>23.3</td>\n",
       "      <td>0.0</td>\n",
       "      <td>980.6</td>\n",
       "      <td>10.8</td>\n",
       "      <td>244.0</td>\n",
       "      <td>0.258</td>\n",
       "      <td>0.279</td>\n",
       "      <td>247.0</td>\n",
       "      <td>85.30</td>\n",
       "    </tr>\n",
       "    <tr>\n",
       "      <th>1984-12-30 21:00:00</th>\n",
       "      <td>21.5</td>\n",
       "      <td>0.0</td>\n",
       "      <td>980.8</td>\n",
       "      <td>5.7</td>\n",
       "      <td>252.0</td>\n",
       "      <td>0.258</td>\n",
       "      <td>0.279</td>\n",
       "      <td>55.0</td>\n",
       "      <td>85.30</td>\n",
       "    </tr>\n",
       "    <tr>\n",
       "      <th>1984-12-30 22:00:00</th>\n",
       "      <td>20.1</td>\n",
       "      <td>0.0</td>\n",
       "      <td>980.8</td>\n",
       "      <td>5.9</td>\n",
       "      <td>256.0</td>\n",
       "      <td>0.258</td>\n",
       "      <td>0.279</td>\n",
       "      <td>0.0</td>\n",
       "      <td>85.30</td>\n",
       "    </tr>\n",
       "    <tr>\n",
       "      <th>1984-12-30 23:00:00</th>\n",
       "      <td>18.8</td>\n",
       "      <td>0.0</td>\n",
       "      <td>980.9</td>\n",
       "      <td>5.6</td>\n",
       "      <td>255.0</td>\n",
       "      <td>0.258</td>\n",
       "      <td>0.279</td>\n",
       "      <td>0.0</td>\n",
       "      <td>85.30</td>\n",
       "    </tr>\n",
       "  </tbody>\n",
       "</table>\n",
       "<p>8760 rows × 9 columns</p>\n",
       "</div>"
      ],
      "text/plain": [
       "                     T(degC)  rain(mm)  surf_press(hPa)  wind_s(km/h)  \\\n",
       "date                                                                    \n",
       "1984-01-01 00:00:00     19.2       0.0            982.1           4.5   \n",
       "1984-01-01 01:00:00     19.1       0.0            981.9           4.5   \n",
       "1984-01-01 02:00:00     18.6       0.0            982.0           4.1   \n",
       "1984-01-01 03:00:00     18.2       0.0            981.9           3.6   \n",
       "1984-01-01 04:00:00     17.7       0.0            981.9           3.7   \n",
       "...                      ...       ...              ...           ...   \n",
       "1984-12-30 19:00:00     24.9       0.0            980.7          13.8   \n",
       "1984-12-30 20:00:00     23.3       0.0            980.6          10.8   \n",
       "1984-12-30 21:00:00     21.5       0.0            980.8           5.7   \n",
       "1984-12-30 22:00:00     20.1       0.0            980.8           5.9   \n",
       "1984-12-30 23:00:00     18.8       0.0            980.9           5.6   \n",
       "\n",
       "                     wind_dir(deg)  soil_moist_0_to_7cm(m3)  \\\n",
       "date                                                          \n",
       "1984-01-01 00:00:00          331.0                    0.251   \n",
       "1984-01-01 01:00:00          331.0                    0.251   \n",
       "1984-01-01 02:00:00          345.0                    0.251   \n",
       "1984-01-01 03:00:00            6.0                    0.251   \n",
       "1984-01-01 04:00:00           11.0                    0.251   \n",
       "...                            ...                      ...   \n",
       "1984-12-30 19:00:00          242.0                    0.258   \n",
       "1984-12-30 20:00:00          244.0                    0.258   \n",
       "1984-12-30 21:00:00          252.0                    0.258   \n",
       "1984-12-30 22:00:00          256.0                    0.258   \n",
       "1984-12-30 23:00:00          255.0                    0.258   \n",
       "\n",
       "                     soil_moist_7_to_28cm(m3)  radiation(W/m2)  \\\n",
       "date                                                             \n",
       "1984-01-01 00:00:00                     0.278              0.0   \n",
       "1984-01-01 01:00:00                     0.278              0.0   \n",
       "1984-01-01 02:00:00                     0.278              0.0   \n",
       "1984-01-01 03:00:00                     0.278              0.0   \n",
       "1984-01-01 04:00:00                     0.278              0.0   \n",
       "...                                       ...              ...   \n",
       "1984-12-30 19:00:00                     0.279            460.0   \n",
       "1984-12-30 20:00:00                     0.279            247.0   \n",
       "1984-12-30 21:00:00                     0.279             55.0   \n",
       "1984-12-30 22:00:00                     0.279              0.0   \n",
       "1984-12-30 23:00:00                     0.279              0.0   \n",
       "\n",
       "                     river_discharge(m3/s)  \n",
       "date                                        \n",
       "1984-01-01 00:00:00                  48.77  \n",
       "1984-01-01 01:00:00                  48.77  \n",
       "1984-01-01 02:00:00                  48.77  \n",
       "1984-01-01 03:00:00                  48.77  \n",
       "1984-01-01 04:00:00                  48.77  \n",
       "...                                    ...  \n",
       "1984-12-30 19:00:00                  85.30  \n",
       "1984-12-30 20:00:00                  85.30  \n",
       "1984-12-30 21:00:00                  85.30  \n",
       "1984-12-30 22:00:00                  85.30  \n",
       "1984-12-30 23:00:00                  85.30  \n",
       "\n",
       "[8760 rows x 9 columns]"
      ]
     },
     "execution_count": 24,
     "metadata": {},
     "output_type": "execute_result"
    }
   ],
   "source": [
    "fold = folds[0]\n",
    "fold"
   ]
  },
  {
   "cell_type": "markdown",
   "metadata": {},
   "source": [
    "# Train/Test split in the fold"
   ]
  },
  {
   "cell_type": "markdown",
   "metadata": {},
   "source": [
    "### Defining global variables"
   ]
  },
  {
   "cell_type": "code",
   "execution_count": 97,
   "metadata": {},
   "outputs": [],
   "source": [
    "# Input lenght of 1 week\n",
    "INPUT_LENGTH = 24 * 7"
   ]
  },
  {
   "cell_type": "markdown",
   "metadata": {},
   "source": [
    "### Defining train/test split function"
   ]
  },
  {
   "cell_type": "code",
   "execution_count": 53,
   "metadata": {},
   "outputs": [],
   "source": [
    "def train_test_split(fold:pd.DataFrame,\n",
    "                     train_test_ratio: float,\n",
    "                     input_length: int) -> tuple[pd.DataFrame]:\n",
    "    \"\"\"From a fold dataframe, take a train dataframe and test dataframe based on \n",
    "    the split ratio.\n",
    "    - df_train should contain all the timesteps until round(train_test_ratio * len(fold))\n",
    "    - df_test should contain all the timesteps needed to create all (X_test, y_test) tuples\n",
    "\n",
    "    Args:\n",
    "        fold (pd.DataFrame): A fold of timesteps\n",
    "        train_test_ratio (float): The ratio between train and test 0-1\n",
    "        input_length (int): How long each X_i will be\n",
    "\n",
    "    Returns:\n",
    "        Tuple[pd.DataFrame]: A tuple of two dataframes (fold_train, fold_test)\n",
    "    \"\"\"\n",
    "    \n",
    "    # TRAIN SET\n",
    "    last_train_idx = round(train_test_ratio * len(fold))\n",
    "    fold_train = fold.iloc[0:last_train_idx, :]\n",
    "\n",
    "    # TEST SET\n",
    "    first_test_idx = last_train_idx - input_length\n",
    "    fold_test = fold.iloc[first_test_idx:, :]\n",
    "    \n",
    "\n",
    "    return (fold_train, fold_test)"
   ]
  },
  {
   "cell_type": "markdown",
   "metadata": {},
   "source": [
    "### Defining fold train and fold test inside fold"
   ]
  },
  {
   "cell_type": "code",
   "execution_count": 98,
   "metadata": {},
   "outputs": [],
   "source": [
    "(fold_train, fold_test) = train_test_split(fold, TRAIN_TEST_RATIO, INPUT_LENGTH)"
   ]
  },
  {
   "cell_type": "code",
   "execution_count": 99,
   "metadata": {},
   "outputs": [
    {
     "name": "stdout",
     "output_type": "stream",
     "text": [
      "N_FEATURES = 8\n",
      "INPUT_LENGTH = 168 timesteps = 7 days\n"
     ]
    }
   ],
   "source": [
    "# INPUT X\n",
    "print(f'N_FEATURES = {N_FEATURES}')\n",
    "print(f'INPUT_LENGTH = {INPUT_LENGTH} timesteps = {int(INPUT_LENGTH/24)} days')"
   ]
  },
  {
   "cell_type": "code",
   "execution_count": 91,
   "metadata": {},
   "outputs": [
    {
     "name": "stdout",
     "output_type": "stream",
     "text": [
      "N_TARGETS = 1\n",
      "OUTPUT_LENGTH = 1\n"
     ]
    }
   ],
   "source": [
    "# TARGET Y\n",
    "print(f'N_TARGETS = {N_TARGETS}')\n",
    "# we predict only one value ahead of us (1 hour ahead)\n",
    "OUTPUT_LENGTH = 1\n",
    "print(f'OUTPUT_LENGTH = {OUTPUT_LENGTH}')"
   ]
  },
  {
   "cell_type": "markdown",
   "metadata": {},
   "source": [
    "# Create (X, y) insise each 'split' by random sampling"
   ]
  },
  {
   "cell_type": "markdown",
   "metadata": {},
   "source": [
    "### Get one sample (Xi, yi)"
   ]
  },
  {
   "cell_type": "code",
   "execution_count": 54,
   "metadata": {},
   "outputs": [],
   "source": [
    "def get_Xi_yi(\n",
    "    fold:pd.DataFrame, \n",
    "    input_length:int, \n",
    "    output_length:int) -> tuple[pd.DataFrame]:\n",
    "    \"\"\"given a fold, it returns one sequence (X_i, y_i) as based on the desired \n",
    "    input_length and output_length with the starting point of the sequence being chosen at random based\n",
    "\n",
    "    Args:\n",
    "        fold (pd.DataFrame): A single fold\n",
    "        input_length (int): How long each X_i should be \n",
    "        output_length (int): How long each y_i should be\n",
    "\n",
    "    Returns:\n",
    "        Tuple[pd.DataFrame]: A tuple of two dataframes (X_i, y_i)\n",
    "    \"\"\"\n",
    "    \n",
    "    if fold.isnull().values.any():\n",
    "        raise ValueError('fold contains NaN values')\n",
    "\n",
    "    first_possible_start = 0\n",
    "    last_possible_start = len(fold) - (input_length + output_length) + 1\n",
    "    random_start = np.random.randint(first_possible_start, last_possible_start)\n",
    "    X_i = fold.iloc[random_start:random_start+input_length]    \n",
    "    y_i = fold.iloc[random_start+input_length:\n",
    "                  random_start+input_length+output_length][[TARGET]]\n",
    "    \n",
    "    return (X_i, y_i)"
   ]
  },
  {
   "cell_type": "markdown",
   "metadata": {},
   "source": [
    "### Get (X, y) from multiple samples"
   ]
  },
  {
   "cell_type": "code",
   "execution_count": 55,
   "metadata": {},
   "outputs": [],
   "source": [
    "def get_X_y(\n",
    "    fold:pd.DataFrame,\n",
    "    number_of_sequences:int,\n",
    "    input_length:int,\n",
    "    output_length:int) -> tuple[np.array]:\n",
    "    \"\"\"Given a fold generate X and y based on the number of desired sequences \n",
    "    of the given input_length and output_length\n",
    "\n",
    "    Args:\n",
    "        fold (pd.DataFrame): Fold dataframe\n",
    "        number_of_sequences (int): The number of X_i and y_i pairs to include\n",
    "        input_length (int): Length of each X_i\n",
    "        output_length (int): Length of each y_i\n",
    "\n",
    "    Returns:\n",
    "        Tuple[np.array]: A tuple of numpy arrays (X, y):\n",
    "            X.shape = (n_samples, input_length, n_covariates)\n",
    "            y.shape =\n",
    "                (n_samples, output_length, n_targets) if all 3-dimensions are of size > 1\n",
    "                (n_samples, output_length) if n_targets == 1\n",
    "                (n_samples, n_targets) if output_length == 1\n",
    "                (n_samples, ) if both n_targets and lenghts == 1   \n",
    "    \"\"\"\n",
    "  \n",
    "    X, y = [], []\n",
    "\n",
    "    for i in range(number_of_sequences):\n",
    "        (Xi, yi) = get_Xi_yi(fold, input_length, output_length)\n",
    "        X.append(Xi)\n",
    "        y.append(yi)\n",
    "        \n",
    "    return np.array(X), np.array(y)"
   ]
  },
  {
   "cell_type": "markdown",
   "metadata": {},
   "source": [
    "### Choosing randomly the number of samples"
   ]
  },
  {
   "cell_type": "code",
   "execution_count": 137,
   "metadata": {},
   "outputs": [
    {
     "data": {
      "text/plain": [
       "(8760, 9)"
      ]
     },
     "execution_count": 137,
     "metadata": {},
     "output_type": "execute_result"
    }
   ],
   "source": [
    "fold.shape"
   ]
  },
  {
   "cell_type": "code",
   "execution_count": 104,
   "metadata": {},
   "outputs": [],
   "source": [
    "# Choosing randomly the number of samples\n",
    "N_TRAIN = 666 # number_of_samples_train\n",
    "N_TEST =  333 # number_of_samples_test"
   ]
  },
  {
   "cell_type": "code",
   "execution_count": 106,
   "metadata": {},
   "outputs": [],
   "source": [
    "X_train_rand, y_train_rand = get_X_y(fold_train, N_TRAIN, INPUT_LENGTH, OUTPUT_LENGTH)\n",
    "X_test_rand, y_test_rand = get_X_y(fold_test, N_TEST, INPUT_LENGTH, OUTPUT_LENGTH)"
   ]
  },
  {
   "cell_type": "code",
   "execution_count": 107,
   "metadata": {},
   "outputs": [
    {
     "name": "stdout",
     "output_type": "stream",
     "text": [
      "(666, 168, 9)\n",
      "(666, 1, 1)\n"
     ]
    }
   ],
   "source": [
    "print(X_train_rand.shape)\n",
    "print(y_train_rand.shape)"
   ]
  },
  {
   "cell_type": "markdown",
   "metadata": {},
   "source": [
    "# Create (X, y) insise each 'split' by scanning  chronologically "
   ]
  },
  {
   "cell_type": "markdown",
   "metadata": {},
   "source": [
    "### Defininf get strides function"
   ]
  },
  {
   "cell_type": "code",
   "execution_count": 69,
   "metadata": {},
   "outputs": [],
   "source": [
    "def get_X_y_strides(fold: pd.DataFrame, input_length: int, output_length: int, \n",
    "    sequence_stride: int) -> tuple[np.array]:\n",
    "    \"\"\"slides through a `fold` Time Series (2D array) to create sequences of equal\n",
    "        * `input_length` for X,\n",
    "        * `output_length` for y,\n",
    "    using a temporal gap `sequence_stride` between each sequence\n",
    "\n",
    "    Args:\n",
    "        fold (pd.DataFrame): One single fold dataframe\n",
    "        input_length (int): Length of each X_i\n",
    "        output_length (int): Length of each y_i\n",
    "        sequence_stride (int): How many timesteps to take before taking the next X_i\n",
    "\n",
    "    Returns:\n",
    "        Tuple[np.array]: A tuple of numpy arrays (X, y)\n",
    "    \"\"\"\n",
    "    X, y = [], []\n",
    "\n",
    "    for i in range(0, len(fold), sequence_stride):\n",
    "        # Exits the loop as soon as the last fold index would exceed the last index\n",
    "        if (i + input_length + output_length) >= len(fold):\n",
    "            break\n",
    "        X_i = fold.iloc[i:i + input_length, :]\n",
    "        y_i = fold.iloc[i + input_length:i + input_length + output_length, :][[TARGET]]\n",
    "        X.append(X_i)\n",
    "        y.append(y_i)\n",
    "\n",
    "    return (np.array(X), np.array(y))"
   ]
  },
  {
   "cell_type": "markdown",
   "metadata": {},
   "source": [
    "### Defining the \"sequence_stride\""
   ]
  },
  {
   "cell_type": "code",
   "execution_count": 120,
   "metadata": {},
   "outputs": [],
   "source": [
    "# \"sequence_stride\" = how many timestamps in the future you move between one sample and the other\n",
    "SEQUENCE_STRIDE = 8"
   ]
  },
  {
   "cell_type": "code",
   "execution_count": 121,
   "metadata": {},
   "outputs": [
    {
     "name": "stdout",
     "output_type": "stream",
     "text": [
      "FOLD_LENGTH\n",
      "= 8760 timesteps\n",
      "= 365 days\n",
      "= 52 weeks\n"
     ]
    }
   ],
   "source": [
    "print(\"FOLD_LENGTH\") \n",
    "print(f\"= {FOLD_LENGTH} timesteps\")\n",
    "print(f\"= {int(FOLD_LENGTH/24)} days\")\n",
    "print(f\"= {int(FOLD_LENGTH/24/7)} weeks\")"
   ]
  },
  {
   "cell_type": "code",
   "execution_count": 122,
   "metadata": {},
   "outputs": [
    {
     "name": "stdout",
     "output_type": "stream",
     "text": [
      "(702, 168, 9)\n",
      "(702, 1, 1)\n"
     ]
    }
   ],
   "source": [
    "X_train_ch, y_train_ch = get_X_y_strides(fold_train, INPUT_LENGTH, OUTPUT_LENGTH, SEQUENCE_STRIDE)\n",
    "X_test_ch, y_test_ch = get_X_y_strides(fold_test, INPUT_LENGTH, OUTPUT_LENGTH, SEQUENCE_STRIDE)\n",
    "\n",
    "print(X_train_ch.shape)\n",
    "print(y_train_ch.shape)"
   ]
  },
  {
   "cell_type": "markdown",
   "metadata": {},
   "source": [
    "# Modeling"
   ]
  },
  {
   "cell_type": "markdown",
   "metadata": {},
   "source": [
    "### Defining model functions"
   ]
  },
  {
   "cell_type": "code",
   "execution_count": 129,
   "metadata": {},
   "outputs": [],
   "source": [
    "from tensorflow.keras import models\n",
    "from tensorflow.keras import layers\n",
    "from tensorflow.keras import optimizers, metrics\n",
    "from tensorflow.keras.regularizers import L1L2\n",
    "from tensorflow.keras.layers.experimental.preprocessing import Normalization\n",
    "\n",
    "def init_model(X_train, y_train):\n",
    "    \n",
    "    # Normalization\n",
    "    normalizer = Normalization()\n",
    "    normalizer.adapt(X_train)\n",
    "    \n",
    "    # RNN architecture \n",
    "    model = models.Sequential()\n",
    "    \n",
    "    ## All the rows will be standardized through the already adapted normalization layer\n",
    "    model.add(normalizer)\n",
    "    model.add(layers.LSTM(40, \n",
    "                          activation='tanh', \n",
    "                          return_sequences = True,\n",
    "                          kernel_regularizer=L1L2(l1=0.05, l2=0.05),\n",
    "                          ))\n",
    "    model.add(layers.LSTM(40, \n",
    "                        activation='tanh', \n",
    "                        return_sequences = False,\n",
    "                        kernel_regularizer=L1L2(l1=0.05, l2=0.05),\n",
    "                        ))\n",
    "    \n",
    "    ## Predictive Dense Layers\n",
    "    output_length = y_train.shape[1]\n",
    "    model.add(layers.Dense(output_length, activation='linear'))\n",
    "\n",
    "    # Compiler \n",
    "    adam = optimizers.Adam(learning_rate=0.02)    \n",
    "    model.compile(loss='mse', optimizer=adam, metrics=[\"mae\"])\n",
    "    \n",
    "    return model"
   ]
  },
  {
   "cell_type": "code",
   "execution_count": 81,
   "metadata": {},
   "outputs": [],
   "source": [
    "def plot_history(history):\n",
    "    \n",
    "    fig, ax = plt.subplots(1,2, figsize=(20,7))\n",
    "    # --- LOSS: MSE --- \n",
    "    ax[0].plot(history.history['loss'])\n",
    "    ax[0].plot(history.history['val_loss'])\n",
    "    ax[0].set_title('MSE')\n",
    "    ax[0].set_ylabel('Loss')\n",
    "    ax[0].set_xlabel('Epoch')\n",
    "    ax[0].legend(['Train', 'Validation'], loc='best')\n",
    "    ax[0].grid(axis=\"x\",linewidth=0.5)\n",
    "    ax[0].grid(axis=\"y\",linewidth=0.5)\n",
    "    \n",
    "    # --- METRICS:MAE ---\n",
    "    \n",
    "    ax[1].plot(history.history['mae'])\n",
    "    ax[1].plot(history.history['val_mae'])\n",
    "    ax[1].set_title('MAE')\n",
    "    ax[1].set_ylabel('MAE')\n",
    "    ax[1].set_xlabel('Epoch')\n",
    "    ax[1].legend(['Train', 'Validation'], loc='best')\n",
    "    ax[1].grid(axis=\"x\",linewidth=0.5)\n",
    "    ax[1].grid(axis=\"y\",linewidth=0.5)\n",
    "                        \n",
    "    return ax"
   ]
  },
  {
   "cell_type": "code",
   "execution_count": 112,
   "metadata": {},
   "outputs": [],
   "source": [
    "from tensorflow import keras\n",
    "from keras.callbacks import EarlyStopping\n",
    "\n",
    "def fit_model(model: tf.keras.Model, X_train, y_train, verbose=1) -> tuple[tf.keras.Model, dict]:\n",
    "\n",
    " \n",
    "    es = EarlyStopping(monitor = \"val_loss\",\n",
    "                      patience = 3,\n",
    "                      mode = \"min\",\n",
    "                      restore_best_weights = True)\n",
    "\n",
    "\n",
    "    history = model.fit(X_train, y_train,\n",
    "                        validation_split = 0.3,\n",
    "                        shuffle = False,\n",
    "                        batch_size = 32,\n",
    "                        epochs = 50,\n",
    "                        callbacks = [es],\n",
    "                        verbose = verbose)\n",
    "\n",
    "    return model, history"
   ]
  },
  {
   "cell_type": "markdown",
   "metadata": {},
   "source": [
    "### Training with the whole dataset"
   ]
  },
  {
   "cell_type": "code",
   "execution_count": 139,
   "metadata": {},
   "outputs": [
    {
     "name": "stdout",
     "output_type": "stream",
     "text": [
      "8\n",
      "0.66\n"
     ]
    }
   ],
   "source": [
    "print(SEQUENCE_STRIDE)\n",
    "print(TRAIN_TEST_RATIO)\n",
    "TRAIN_TEST_RATIO = 0.8"
   ]
  },
  {
   "cell_type": "code",
   "execution_count": 143,
   "metadata": {},
   "outputs": [],
   "source": [
    "(whole_train, whole_test) = train_test_split(df, TRAIN_TEST_RATIO, INPUT_LENGTH)\n",
    "X_train_ch, y_train_ch = get_X_y_strides(whole_train, INPUT_LENGTH, OUTPUT_LENGTH, SEQUENCE_STRIDE)"
   ]
  },
  {
   "cell_type": "code",
   "execution_count": 144,
   "metadata": {},
   "outputs": [
    {
     "name": "stdout",
     "output_type": "stream",
     "text": [
      "Model: \"sequential_13\"\n",
      "_________________________________________________________________\n",
      " Layer (type)                Output Shape              Param #   \n",
      "=================================================================\n",
      " normalization_13 (Normaliza  (None, None, 9)          19        \n",
      " tion)                                                           \n",
      "                                                                 \n",
      " lstm_17 (LSTM)              (None, None, 40)          8000      \n",
      "                                                                 \n",
      " lstm_18 (LSTM)              (None, 40)                12960     \n",
      "                                                                 \n",
      " dense_13 (Dense)            (None, 1)                 41        \n",
      "                                                                 \n",
      "=================================================================\n",
      "Total params: 21,020\n",
      "Trainable params: 21,001\n",
      "Non-trainable params: 19\n",
      "_________________________________________________________________\n",
      "Epoch 1/50\n",
      "761/761 [==============================] - 45s 56ms/step - loss: 2448.8396 - mae: 25.8501 - val_loss: 999.4462 - val_mae: 24.4655\n",
      "Epoch 2/50\n",
      "761/761 [==============================] - 42s 56ms/step - loss: 2281.5002 - mae: 25.7879 - val_loss: 996.0935 - val_mae: 24.5962\n",
      "Epoch 3/50\n",
      "761/761 [==============================] - 43s 56ms/step - loss: 2276.4814 - mae: 25.8001 - val_loss: 993.4469 - val_mae: 24.5879\n",
      "Epoch 4/50\n",
      "761/761 [==============================] - 43s 57ms/step - loss: 2274.8071 - mae: 25.8010 - val_loss: 991.3293 - val_mae: 24.5613\n",
      "Epoch 5/50\n",
      "761/761 [==============================] - 43s 56ms/step - loss: 2273.4175 - mae: 25.7645 - val_loss: 990.4957 - val_mae: 24.5517\n",
      "Epoch 6/50\n",
      "761/761 [==============================] - 43s 56ms/step - loss: 2271.9126 - mae: 25.7990 - val_loss: 990.4206 - val_mae: 24.5528\n",
      "Epoch 7/50\n",
      "761/761 [==============================] - 43s 56ms/step - loss: 2275.2817 - mae: 25.7593 - val_loss: 989.4162 - val_mae: 24.5291\n",
      "Epoch 8/50\n",
      "761/761 [==============================] - 43s 56ms/step - loss: 2270.3765 - mae: 25.7948 - val_loss: 989.6897 - val_mae: 24.5351\n",
      "Epoch 9/50\n",
      "761/761 [==============================] - 43s 57ms/step - loss: 2270.4404 - mae: 25.7952 - val_loss: 989.7249 - val_mae: 24.5354\n",
      "Epoch 10/50\n",
      "761/761 [==============================] - 43s 56ms/step - loss: 2270.5007 - mae: 25.7952 - val_loss: 989.7775 - val_mae: 24.5355\n"
     ]
    }
   ],
   "source": [
    "# Initialising the RNN model\n",
    "\n",
    "model = init_model(X_train_ch, y_train_ch)\n",
    "model.summary()\n",
    "\n",
    "# Training\n",
    "model, history = fit_model(model, X_train_ch, y_train_ch)"
   ]
  },
  {
   "cell_type": "code",
   "execution_count": 145,
   "metadata": {},
   "outputs": [
    {
     "data": {
      "image/png": "[encoded data removed]",
      "text/plain": [
       "<Figure size 2000x700 with 2 Axes>"
      ]
     },
     "metadata": {},
     "output_type": "display_data"
    }
   ],
   "source": [
    "plot_history(history);"
   ]
  },
  {
   "cell_type": "markdown",
   "metadata": {},
   "source": [
    "### Initialising the RNN model"
   ]
  },
  {
   "cell_type": "code",
   "execution_count": 130,
   "metadata": {},
   "outputs": [
    {
     "name": "stdout",
     "output_type": "stream",
     "text": [
      "Model: \"sequential_10\"\n",
      "_________________________________________________________________\n",
      " Layer (type)                Output Shape              Param #   \n",
      "=================================================================\n",
      " normalization_10 (Normaliza  (None, None, 9)          19        \n",
      " tion)                                                           \n",
      "                                                                 \n",
      " lstm_11 (LSTM)              (None, None, 40)          8000      \n",
      "                                                                 \n",
      " lstm_12 (LSTM)              (None, 40)                12960     \n",
      "                                                                 \n",
      " dense_10 (Dense)            (None, 1)                 41        \n",
      "                                                                 \n",
      "=================================================================\n",
      "Total params: 21,020\n",
      "Trainable params: 21,001\n",
      "Non-trainable params: 19\n",
      "_________________________________________________________________\n",
      "Epoch 1/50\n",
      "16/16 [==============================] - 4s 83ms/step - loss: 1385.9365 - mae: 31.6658 - val_loss: 42454.9180 - val_mae: 144.2073\n",
      "Epoch 2/50\n",
      "16/16 [==============================] - 1s 54ms/step - loss: 677.3121 - mae: 18.7028 - val_loss: 40065.3242 - val_mae: 135.6947\n",
      "Epoch 3/50\n",
      "16/16 [==============================] - 1s 53ms/step - loss: 411.9188 - mae: 10.7127 - val_loss: 37789.7383 - val_mae: 127.1670\n",
      "Epoch 4/50\n",
      "16/16 [==============================] - 1s 53ms/step - loss: 331.3715 - mae: 9.1779 - val_loss: 36904.5703 - val_mae: 123.8196\n",
      "Epoch 5/50\n",
      "16/16 [==============================] - 1s 54ms/step - loss: 308.6055 - mae: 9.6955 - val_loss: 36452.6133 - val_mae: 122.2085\n",
      "Epoch 6/50\n",
      "16/16 [==============================] - 1s 55ms/step - loss: 303.9094 - mae: 9.9807 - val_loss: 36411.5156 - val_mae: 122.0793\n",
      "Epoch 7/50\n",
      "16/16 [==============================] - 1s 56ms/step - loss: 300.8996 - mae: 9.9254 - val_loss: 36479.1328 - val_mae: 122.3264\n",
      "Epoch 8/50\n",
      "16/16 [==============================] - 1s 54ms/step - loss: 298.7998 - mae: 9.8337 - val_loss: 36523.0469 - val_mae: 122.4860\n",
      "Epoch 9/50\n",
      "16/16 [==============================] - 1s 57ms/step - loss: 297.5547 - mae: 9.7995 - val_loss: 36531.5039 - val_mae: 122.5189\n"
     ]
    }
   ],
   "source": [
    "# Initialising the RNN model\n",
    "\n",
    "model = init_model(X_train_ch, y_train_ch)\n",
    "model.summary()\n",
    "\n",
    "# Training\n",
    "model, history = fit_model(model, X_train_ch, y_train_ch)"
   ]
  },
  {
   "cell_type": "code",
   "execution_count": 131,
   "metadata": {},
   "outputs": [
    {
     "data": {
      "image/png": "[encoded data removed]",
      "text/plain": [
       "<Figure size 2000x700 with 2 Axes>"
      ]
     },
     "metadata": {},
     "output_type": "display_data"
    }
   ],
   "source": [
    "plot_history(history);"
   ]
  },
  {
   "cell_type": "code",
   "execution_count": 132,
   "metadata": {},
   "outputs": [
    {
     "name": "stdout",
     "output_type": "stream",
     "text": [
      "Model: \"sequential_11\"\n",
      "_________________________________________________________________\n",
      " Layer (type)                Output Shape              Param #   \n",
      "=================================================================\n",
      " normalization_11 (Normaliza  (None, None, 9)          19        \n",
      " tion)                                                           \n",
      "                                                                 \n",
      " lstm_13 (LSTM)              (None, None, 40)          8000      \n",
      "                                                                 \n",
      " lstm_14 (LSTM)              (None, 40)                12960     \n",
      "                                                                 \n",
      " dense_11 (Dense)            (None, 1)                 41        \n",
      "                                                                 \n",
      "=================================================================\n",
      "Total params: 21,020\n",
      "Trainable params: 21,001\n",
      "Non-trainable params: 19\n",
      "_________________________________________________________________\n"
     ]
    },
    {
     "ename": "TypeError",
     "evalue": "fit_model() missing 2 required positional arguments: 'X_train' and 'y_train'",
     "output_type": "error",
     "traceback": [
      "\u001b[0;31m---------------------------------------------------------------------------\u001b[0m",
      "\u001b[0;31mTypeError\u001b[0m                                 Traceback (most recent call last)",
      "\u001b[1;32m/Users/agubecker/code/Agubecker/flood_prediction/notebooks/model.ipynb Cell 51\u001b[0m in \u001b[0;36m7\n\u001b[1;32m      <a href='vscode-notebook-cell:/Users/agubecker/code/Agubecker/flood_prediction/notebooks/model.ipynb#Y126sZmlsZQ%3D%3D?line=3'>4</a>\u001b[0m model\u001b[39m.\u001b[39msummary()\n\u001b[1;32m      <a href='vscode-notebook-cell:/Users/agubecker/code/Agubecker/flood_prediction/notebooks/model.ipynb#Y126sZmlsZQ%3D%3D?line=5'>6</a>\u001b[0m \u001b[39m# Training\u001b[39;00m\n\u001b[0;32m----> <a href='vscode-notebook-cell:/Users/agubecker/code/Agubecker/flood_prediction/notebooks/model.ipynb#Y126sZmlsZQ%3D%3D?line=6'>7</a>\u001b[0m model, history \u001b[39m=\u001b[39m fit_model(model)\n",
      "\u001b[0;31mTypeError\u001b[0m: fit_model() missing 2 required positional arguments: 'X_train' and 'y_train'"
     ]
    }
   ],
   "source": [
    "# Initialising the RNN model\n",
    "\n",
    "model = init_model(X_train_rand, y_train_rand)\n",
    "model.summary()\n",
    "\n",
    "# Training\n",
    "model, history = fit_model(model)"
   ]
  },
  {
   "cell_type": "code",
   "execution_count": 109,
   "metadata": {},
   "outputs": [
    {
     "data": {
      "image/png": "[encoded data removed]",
      "text/plain": [
       "<Figure size 2000x700 with 2 Axes>"
      ]
     },
     "metadata": {},
     "output_type": "display_data"
    }
   ],
   "source": [
    "plot_history(history);"
   ]
  },
  {
   "cell_type": "code",
   "execution_count": null,
   "metadata": {},
   "outputs": [],
   "source": []
  }
 ],
 "metadata": {
  "kernelspec": {
   "display_name": "lewagon",
   "language": "python",
   "name": "python3"
  },
  "language_info": {
   "codemirror_mode": {
    "name": "ipython",
    "version": 3
   },
   "file_extension": ".py",
   "mimetype": "text/x-python",
   "name": "python",
   "nbconvert_exporter": "python",
   "pygments_lexer": "ipython3",
   "version": "3.10.6"
  },
  "orig_nbformat": 4
 },
 "nbformat": 4,
 "nbformat_minor": 2
}
