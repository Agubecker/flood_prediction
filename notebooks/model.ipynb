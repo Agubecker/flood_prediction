{
 "cells": [
  {
   "cell_type": "code",
   "execution_count": 9,
   "metadata": {},
   "outputs": [],
   "source": [
    "import pandas as pd\n",
    "import numpy as np\n",
    "import sys\n",
    "sys.path.append('../flood_prediction') # going to the parent folder of the current folder\n",
    "from data_prep import get_data_and_targets\n",
    "\n",
    "# Data Visualiation\n",
    "import matplotlib.pyplot as plt\n",
    "import seaborn as sns\n",
    "\n",
    "# Deep Learning\n",
    "import tensorflow as tf"
   ]
  },
  {
   "cell_type": "markdown",
   "metadata": {},
   "source": [
    "# Getting data from API (data_prep.py)"
   ]
  },
  {
   "cell_type": "code",
   "execution_count": 2,
   "metadata": {},
   "outputs": [],
   "source": [
    "df = get_data_and_targets()"
   ]
  },
  {
   "cell_type": "code",
   "execution_count": 5,
   "metadata": {},
   "outputs": [
    {
     "data": {
      "text/plain": [
       "(347685, 10)"
      ]
     },
     "execution_count": 5,
     "metadata": {},
     "output_type": "execute_result"
    }
   ],
   "source": [
    "df.shape"
   ]
  },
  {
   "cell_type": "code",
   "execution_count": 6,
   "metadata": {},
   "outputs": [
    {
     "data": {
      "text/html": [
       "<div>\n",
       "<style scoped>\n",
       "    .dataframe tbody tr th:only-of-type {\n",
       "        vertical-align: middle;\n",
       "    }\n",
       "\n",
       "    .dataframe tbody tr th {\n",
       "        vertical-align: top;\n",
       "    }\n",
       "\n",
       "    .dataframe thead th {\n",
       "        text-align: right;\n",
       "    }\n",
       "</style>\n",
       "<table border=\"1\" class=\"dataframe\">\n",
       "  <thead>\n",
       "    <tr style=\"text-align: right;\">\n",
       "      <th></th>\n",
       "      <th>T(degC)</th>\n",
       "      <th>rain(mm)</th>\n",
       "      <th>surf_press(hPa)</th>\n",
       "      <th>wind_s(km/h)</th>\n",
       "      <th>wind_dir(deg)</th>\n",
       "      <th>soil_moist_0_to_7cm(m3)</th>\n",
       "      <th>soil_moist_7_to_28cm(m3)</th>\n",
       "      <th>radiation(W/m2)</th>\n",
       "      <th>river_discharge(m3/s)</th>\n",
       "      <th>target</th>\n",
       "    </tr>\n",
       "    <tr>\n",
       "      <th>date</th>\n",
       "      <th></th>\n",
       "      <th></th>\n",
       "      <th></th>\n",
       "      <th></th>\n",
       "      <th></th>\n",
       "      <th></th>\n",
       "      <th></th>\n",
       "      <th></th>\n",
       "      <th></th>\n",
       "      <th></th>\n",
       "    </tr>\n",
       "  </thead>\n",
       "  <tbody>\n",
       "    <tr>\n",
       "      <th>1984-01-01 00:00:00</th>\n",
       "      <td>19.2</td>\n",
       "      <td>0.0</td>\n",
       "      <td>982.1</td>\n",
       "      <td>4.5</td>\n",
       "      <td>331.0</td>\n",
       "      <td>0.251</td>\n",
       "      <td>0.278</td>\n",
       "      <td>0.0</td>\n",
       "      <td>48.77</td>\n",
       "      <td>0</td>\n",
       "    </tr>\n",
       "    <tr>\n",
       "      <th>1984-01-01 01:00:00</th>\n",
       "      <td>19.1</td>\n",
       "      <td>0.0</td>\n",
       "      <td>981.9</td>\n",
       "      <td>4.5</td>\n",
       "      <td>331.0</td>\n",
       "      <td>0.251</td>\n",
       "      <td>0.278</td>\n",
       "      <td>0.0</td>\n",
       "      <td>48.77</td>\n",
       "      <td>0</td>\n",
       "    </tr>\n",
       "    <tr>\n",
       "      <th>1984-01-01 02:00:00</th>\n",
       "      <td>18.6</td>\n",
       "      <td>0.0</td>\n",
       "      <td>982.0</td>\n",
       "      <td>4.1</td>\n",
       "      <td>345.0</td>\n",
       "      <td>0.251</td>\n",
       "      <td>0.278</td>\n",
       "      <td>0.0</td>\n",
       "      <td>48.77</td>\n",
       "      <td>0</td>\n",
       "    </tr>\n",
       "    <tr>\n",
       "      <th>1984-01-01 03:00:00</th>\n",
       "      <td>18.2</td>\n",
       "      <td>0.0</td>\n",
       "      <td>981.9</td>\n",
       "      <td>3.6</td>\n",
       "      <td>6.0</td>\n",
       "      <td>0.251</td>\n",
       "      <td>0.278</td>\n",
       "      <td>0.0</td>\n",
       "      <td>48.77</td>\n",
       "      <td>0</td>\n",
       "    </tr>\n",
       "    <tr>\n",
       "      <th>1984-01-01 04:00:00</th>\n",
       "      <td>17.7</td>\n",
       "      <td>0.0</td>\n",
       "      <td>981.9</td>\n",
       "      <td>3.7</td>\n",
       "      <td>11.0</td>\n",
       "      <td>0.251</td>\n",
       "      <td>0.278</td>\n",
       "      <td>0.0</td>\n",
       "      <td>48.77</td>\n",
       "      <td>0</td>\n",
       "    </tr>\n",
       "  </tbody>\n",
       "</table>\n",
       "</div>"
      ],
      "text/plain": [
       "                     T(degC)  rain(mm)  surf_press(hPa)  wind_s(km/h)  \\\n",
       "date                                                                    \n",
       "1984-01-01 00:00:00     19.2       0.0            982.1           4.5   \n",
       "1984-01-01 01:00:00     19.1       0.0            981.9           4.5   \n",
       "1984-01-01 02:00:00     18.6       0.0            982.0           4.1   \n",
       "1984-01-01 03:00:00     18.2       0.0            981.9           3.6   \n",
       "1984-01-01 04:00:00     17.7       0.0            981.9           3.7   \n",
       "\n",
       "                     wind_dir(deg)  soil_moist_0_to_7cm(m3)  \\\n",
       "date                                                          \n",
       "1984-01-01 00:00:00          331.0                    0.251   \n",
       "1984-01-01 01:00:00          331.0                    0.251   \n",
       "1984-01-01 02:00:00          345.0                    0.251   \n",
       "1984-01-01 03:00:00            6.0                    0.251   \n",
       "1984-01-01 04:00:00           11.0                    0.251   \n",
       "\n",
       "                     soil_moist_7_to_28cm(m3)  radiation(W/m2)  \\\n",
       "date                                                             \n",
       "1984-01-01 00:00:00                     0.278              0.0   \n",
       "1984-01-01 01:00:00                     0.278              0.0   \n",
       "1984-01-01 02:00:00                     0.278              0.0   \n",
       "1984-01-01 03:00:00                     0.278              0.0   \n",
       "1984-01-01 04:00:00                     0.278              0.0   \n",
       "\n",
       "                     river_discharge(m3/s)  target  \n",
       "date                                                \n",
       "1984-01-01 00:00:00                  48.77       0  \n",
       "1984-01-01 01:00:00                  48.77       0  \n",
       "1984-01-01 02:00:00                  48.77       0  \n",
       "1984-01-01 03:00:00                  48.77       0  \n",
       "1984-01-01 04:00:00                  48.77       0  "
      ]
     },
     "execution_count": 6,
     "metadata": {},
     "output_type": "execute_result"
    }
   ],
   "source": [
    "df.head(5)"
   ]
  },
  {
   "cell_type": "code",
   "execution_count": 7,
   "metadata": {},
   "outputs": [
    {
     "data": {
      "text/plain": [
       "(347685, 9)"
      ]
     },
     "execution_count": 7,
     "metadata": {},
     "output_type": "execute_result"
    }
   ],
   "source": [
    "df.drop(columns='target', inplace=True)\n",
    "df.shape"
   ]
  },
  {
   "cell_type": "markdown",
   "metadata": {},
   "source": [
    "# Defining goblal variables of the data set"
   ]
  },
  {
   "cell_type": "code",
   "execution_count": 13,
   "metadata": {},
   "outputs": [],
   "source": [
    "TARGET = 'river_discharge(m3/s)'\n",
    "N_TARGETS = 1\n",
    "N_FEATURES = 8"
   ]
  },
  {
   "cell_type": "code",
   "execution_count": 14,
   "metadata": {},
   "outputs": [
    {
     "data": {
      "image/png": "[encoded data removed]",
      "text/plain": [
       "<Figure size 640x480 with 3 Axes>"
      ]
     },
     "metadata": {},
     "output_type": "display_data"
    }
   ],
   "source": [
    "plot_cols = [TARGET, 'surf_press(hPa)', 'rain(mm)']\n",
    "plot_features = df[plot_cols]\n",
    "plot_features.index = df.index\n",
    "plot_features.plot(subplots = True);"
   ]
  },
  {
   "cell_type": "code",
   "execution_count": 16,
   "metadata": {},
   "outputs": [],
   "source": [
    "DATA = dict(\n",
    "    length = 347685, # How many timesteps does your dataset contains?\n",
    "    n_covariates = 8, # number of past covariates, excluding target time series. Our tests do not support future_covariate yet.\n",
    "    target_column_idx = [0] # List of index(es) of target column(s) in your dataset. e.g [0] for Mono-target problem, e.g. [0,1,4] for multi-variate targets problem. Note that past targets values will also be used as features X.\n",
    ")"
   ]
  },
  {
   "cell_type": "markdown",
   "metadata": {},
   "source": [
    "# Creating Folds"
   ]
  },
  {
   "cell_type": "markdown",
   "metadata": {},
   "source": [
    "### Defining global variables"
   ]
  },
  {
   "cell_type": "code",
   "execution_count": 17,
   "metadata": {},
   "outputs": [],
   "source": [
    "# Considering folds of 1 year\n",
    "FOLD_LENGTH = 24 * 365\n",
    "\n",
    "# Folds starting every trimester\n",
    "FOLD_STRIDE = 24 * 91  # 1 quarter = 91 days\n",
    "\n",
    "# train-test-split ratio of 2/3 \n",
    "TRAIN_TEST_RATIO = 0.66"
   ]
  },
  {
   "cell_type": "markdown",
   "metadata": {},
   "source": [
    "### Function to get folds"
   ]
  },
  {
   "cell_type": "code",
   "execution_count": 19,
   "metadata": {},
   "outputs": [],
   "source": [
    "\n",
    "def get_folds(\n",
    "    df: pd.DataFrame,\n",
    "    fold_length: int,\n",
    "    fold_stride: int) -> list[pd.DataFrame]:\n",
    "    \"\"\"    \n",
    "    This function slides through the Time Series dataframe of shape (n_timesteps, n_features) to create folds\n",
    "    - of equal `fold_length`\n",
    "    - using `fold_stride` between each fold\n",
    "\n",
    "    Args:\n",
    "        df (pd.DataFrame): Overall dataframe\n",
    "        fold_length (int): How long each fold should be in rows\n",
    "        fold_stride (int): How many timesteps to move forward between taking each fold\n",
    "\n",
    "    Returns:\n",
    "        List[pd.DataFrame]: A list where each fold is a dataframe within\n",
    "    \"\"\"\n",
    "    # $CHALLENGIFY_BEGIN\n",
    "    \n",
    "    folds = []\n",
    "    for idx in range(0, len(df), fold_stride):\n",
    "        # Exits the loop as soon as the last fold index would exceed the last index\n",
    "        if (idx + fold_length) > len(df):\n",
    "            break\n",
    "        fold = df.iloc[idx:idx + fold_length, :]\n",
    "        folds.append(fold)\n",
    "    return folds"
   ]
  },
  {
   "cell_type": "code",
   "execution_count": 21,
   "metadata": {},
   "outputs": [
    {
     "name": "stdout",
     "output_type": "stream",
     "text": [
      "The function generated 156 folds.\n",
      "Each fold has a shape equal to (8760, 9).\n"
     ]
    }
   ],
   "source": [
    "folds = get_folds(df, FOLD_LENGTH, FOLD_STRIDE)\n",
    "print(f'The function generated {len(folds)} folds.')\n",
    "print(f'Each fold has a shape equal to {folds[0].shape}.')"
   ]
  },
  {
   "cell_type": "code",
   "execution_count": 24,
   "metadata": {},
   "outputs": [
    {
     "data": {
      "text/html": [
       "<div>\n",
       "<style scoped>\n",
       "    .dataframe tbody tr th:only-of-type {\n",
       "        vertical-align: middle;\n",
       "    }\n",
       "\n",
       "    .dataframe tbody tr th {\n",
       "        vertical-align: top;\n",
       "    }\n",
       "\n",
       "    .dataframe thead th {\n",
       "        text-align: right;\n",
       "    }\n",
       "</style>\n",
       "<table border=\"1\" class=\"dataframe\">\n",
       "  <thead>\n",
       "    <tr style=\"text-align: right;\">\n",
       "      <th></th>\n",
       "      <th>T(degC)</th>\n",
       "      <th>rain(mm)</th>\n",
       "      <th>surf_press(hPa)</th>\n",
       "      <th>wind_s(km/h)</th>\n",
       "      <th>wind_dir(deg)</th>\n",
       "      <th>soil_moist_0_to_7cm(m3)</th>\n",
       "      <th>soil_moist_7_to_28cm(m3)</th>\n",
       "      <th>radiation(W/m2)</th>\n",
       "      <th>river_discharge(m3/s)</th>\n",
       "    </tr>\n",
       "    <tr>\n",
       "      <th>date</th>\n",
       "      <th></th>\n",
       "      <th></th>\n",
       "      <th></th>\n",
       "      <th></th>\n",
       "      <th></th>\n",
       "      <th></th>\n",
       "      <th></th>\n",
       "      <th></th>\n",
       "      <th></th>\n",
       "    </tr>\n",
       "  </thead>\n",
       "  <tbody>\n",
       "    <tr>\n",
       "      <th>1984-01-01 00:00:00</th>\n",
       "      <td>19.2</td>\n",
       "      <td>0.0</td>\n",
       "      <td>982.1</td>\n",
       "      <td>4.5</td>\n",
       "      <td>331.0</td>\n",
       "      <td>0.251</td>\n",
       "      <td>0.278</td>\n",
       "      <td>0.0</td>\n",
       "      <td>48.77</td>\n",
       "    </tr>\n",
       "    <tr>\n",
       "      <th>1984-01-01 01:00:00</th>\n",
       "      <td>19.1</td>\n",
       "      <td>0.0</td>\n",
       "      <td>981.9</td>\n",
       "      <td>4.5</td>\n",
       "      <td>331.0</td>\n",
       "      <td>0.251</td>\n",
       "      <td>0.278</td>\n",
       "      <td>0.0</td>\n",
       "      <td>48.77</td>\n",
       "    </tr>\n",
       "    <tr>\n",
       "      <th>1984-01-01 02:00:00</th>\n",
       "      <td>18.6</td>\n",
       "      <td>0.0</td>\n",
       "      <td>982.0</td>\n",
       "      <td>4.1</td>\n",
       "      <td>345.0</td>\n",
       "      <td>0.251</td>\n",
       "      <td>0.278</td>\n",
       "      <td>0.0</td>\n",
       "      <td>48.77</td>\n",
       "    </tr>\n",
       "    <tr>\n",
       "      <th>1984-01-01 03:00:00</th>\n",
       "      <td>18.2</td>\n",
       "      <td>0.0</td>\n",
       "      <td>981.9</td>\n",
       "      <td>3.6</td>\n",
       "      <td>6.0</td>\n",
       "      <td>0.251</td>\n",
       "      <td>0.278</td>\n",
       "      <td>0.0</td>\n",
       "      <td>48.77</td>\n",
       "    </tr>\n",
       "    <tr>\n",
       "      <th>1984-01-01 04:00:00</th>\n",
       "      <td>17.7</td>\n",
       "      <td>0.0</td>\n",
       "      <td>981.9</td>\n",
       "      <td>3.7</td>\n",
       "      <td>11.0</td>\n",
       "      <td>0.251</td>\n",
       "      <td>0.278</td>\n",
       "      <td>0.0</td>\n",
       "      <td>48.77</td>\n",
       "    </tr>\n",
       "    <tr>\n",
       "      <th>...</th>\n",
       "      <td>...</td>\n",
       "      <td>...</td>\n",
       "      <td>...</td>\n",
       "      <td>...</td>\n",
       "      <td>...</td>\n",
       "      <td>...</td>\n",
       "      <td>...</td>\n",
       "      <td>...</td>\n",
       "      <td>...</td>\n",
       "    </tr>\n",
       "    <tr>\n",
       "      <th>1984-12-30 19:00:00</th>\n",
       "      <td>24.9</td>\n",
       "      <td>0.0</td>\n",
       "      <td>980.7</td>\n",
       "      <td>13.8</td>\n",
       "      <td>242.0</td>\n",
       "      <td>0.258</td>\n",
       "      <td>0.279</td>\n",
       "      <td>460.0</td>\n",
       "      <td>85.30</td>\n",
       "    </tr>\n",
       "    <tr>\n",
       "      <th>1984-12-30 20:00:00</th>\n",
       "      <td>23.3</td>\n",
       "      <td>0.0</td>\n",
       "      <td>980.6</td>\n",
       "      <td>10.8</td>\n",
       "      <td>244.0</td>\n",
       "      <td>0.258</td>\n",
       "      <td>0.279</td>\n",
       "      <td>247.0</td>\n",
       "      <td>85.30</td>\n",
       "    </tr>\n",
       "    <tr>\n",
       "      <th>1984-12-30 21:00:00</th>\n",
       "      <td>21.5</td>\n",
       "      <td>0.0</td>\n",
       "      <td>980.8</td>\n",
       "      <td>5.7</td>\n",
       "      <td>252.0</td>\n",
       "      <td>0.258</td>\n",
       "      <td>0.279</td>\n",
       "      <td>55.0</td>\n",
       "      <td>85.30</td>\n",
       "    </tr>\n",
       "    <tr>\n",
       "      <th>1984-12-30 22:00:00</th>\n",
       "      <td>20.1</td>\n",
       "      <td>0.0</td>\n",
       "      <td>980.8</td>\n",
       "      <td>5.9</td>\n",
       "      <td>256.0</td>\n",
       "      <td>0.258</td>\n",
       "      <td>0.279</td>\n",
       "      <td>0.0</td>\n",
       "      <td>85.30</td>\n",
       "    </tr>\n",
       "    <tr>\n",
       "      <th>1984-12-30 23:00:00</th>\n",
       "      <td>18.8</td>\n",
       "      <td>0.0</td>\n",
       "      <td>980.9</td>\n",
       "      <td>5.6</td>\n",
       "      <td>255.0</td>\n",
       "      <td>0.258</td>\n",
       "      <td>0.279</td>\n",
       "      <td>0.0</td>\n",
       "      <td>85.30</td>\n",
       "    </tr>\n",
       "  </tbody>\n",
       "</table>\n",
       "<p>8760 rows × 9 columns</p>\n",
       "</div>"
      ],
      "text/plain": [
       "                     T(degC)  rain(mm)  surf_press(hPa)  wind_s(km/h)  \\\n",
       "date                                                                    \n",
       "1984-01-01 00:00:00     19.2       0.0            982.1           4.5   \n",
       "1984-01-01 01:00:00     19.1       0.0            981.9           4.5   \n",
       "1984-01-01 02:00:00     18.6       0.0            982.0           4.1   \n",
       "1984-01-01 03:00:00     18.2       0.0            981.9           3.6   \n",
       "1984-01-01 04:00:00     17.7       0.0            981.9           3.7   \n",
       "...                      ...       ...              ...           ...   \n",
       "1984-12-30 19:00:00     24.9       0.0            980.7          13.8   \n",
       "1984-12-30 20:00:00     23.3       0.0            980.6          10.8   \n",
       "1984-12-30 21:00:00     21.5       0.0            980.8           5.7   \n",
       "1984-12-30 22:00:00     20.1       0.0            980.8           5.9   \n",
       "1984-12-30 23:00:00     18.8       0.0            980.9           5.6   \n",
       "\n",
       "                     wind_dir(deg)  soil_moist_0_to_7cm(m3)  \\\n",
       "date                                                          \n",
       "1984-01-01 00:00:00          331.0                    0.251   \n",
       "1984-01-01 01:00:00          331.0                    0.251   \n",
       "1984-01-01 02:00:00          345.0                    0.251   \n",
       "1984-01-01 03:00:00            6.0                    0.251   \n",
       "1984-01-01 04:00:00           11.0                    0.251   \n",
       "...                            ...                      ...   \n",
       "1984-12-30 19:00:00          242.0                    0.258   \n",
       "1984-12-30 20:00:00          244.0                    0.258   \n",
       "1984-12-30 21:00:00          252.0                    0.258   \n",
       "1984-12-30 22:00:00          256.0                    0.258   \n",
       "1984-12-30 23:00:00          255.0                    0.258   \n",
       "\n",
       "                     soil_moist_7_to_28cm(m3)  radiation(W/m2)  \\\n",
       "date                                                             \n",
       "1984-01-01 00:00:00                     0.278              0.0   \n",
       "1984-01-01 01:00:00                     0.278              0.0   \n",
       "1984-01-01 02:00:00                     0.278              0.0   \n",
       "1984-01-01 03:00:00                     0.278              0.0   \n",
       "1984-01-01 04:00:00                     0.278              0.0   \n",
       "...                                       ...              ...   \n",
       "1984-12-30 19:00:00                     0.279            460.0   \n",
       "1984-12-30 20:00:00                     0.279            247.0   \n",
       "1984-12-30 21:00:00                     0.279             55.0   \n",
       "1984-12-30 22:00:00                     0.279              0.0   \n",
       "1984-12-30 23:00:00                     0.279              0.0   \n",
       "\n",
       "                     river_discharge(m3/s)  \n",
       "date                                        \n",
       "1984-01-01 00:00:00                  48.77  \n",
       "1984-01-01 01:00:00                  48.77  \n",
       "1984-01-01 02:00:00                  48.77  \n",
       "1984-01-01 03:00:00                  48.77  \n",
       "1984-01-01 04:00:00                  48.77  \n",
       "...                                    ...  \n",
       "1984-12-30 19:00:00                  85.30  \n",
       "1984-12-30 20:00:00                  85.30  \n",
       "1984-12-30 21:00:00                  85.30  \n",
       "1984-12-30 22:00:00                  85.30  \n",
       "1984-12-30 23:00:00                  85.30  \n",
       "\n",
       "[8760 rows x 9 columns]"
      ]
     },
     "execution_count": 24,
     "metadata": {},
     "output_type": "execute_result"
    }
   ],
   "source": [
    "fold = folds[0]\n",
    "fold"
   ]
  },
  {
   "cell_type": "markdown",
   "metadata": {},
   "source": [
    "# Train/Test split in the fold"
   ]
  },
  {
   "cell_type": "markdown",
   "metadata": {},
   "source": [
    "### Defining global variables"
   ]
  },
  {
   "cell_type": "code",
   "execution_count": null,
   "metadata": {},
   "outputs": [],
   "source": []
  }
 ],
 "metadata": {
  "kernelspec": {
   "display_name": "lewagon",
   "language": "python",
   "name": "python3"
  },
  "language_info": {
   "codemirror_mode": {
    "name": "ipython",
    "version": 3
   },
   "file_extension": ".py",
   "mimetype": "text/x-python",
   "name": "python",
   "nbconvert_exporter": "python",
   "pygments_lexer": "ipython3",
   "version": "3.10.6"
  },
  "orig_nbformat": 4
 },
 "nbformat": 4,
 "nbformat_minor": 2
}
