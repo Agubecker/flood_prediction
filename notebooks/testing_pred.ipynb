{
 "cells": [
  {
   "cell_type": "code",
   "execution_count": 1,
   "metadata": {},
   "outputs": [
    {
     "name": "stderr",
     "output_type": "stream",
     "text": [
      "2023-09-08 17:42:23.760784: I tensorflow/core/platform/cpu_feature_guard.cc:193] This TensorFlow binary is optimized with oneAPI Deep Neural Network Library (oneDNN) to use the following CPU instructions in performance-critical operations:  AVX2 FMA\n",
      "To enable them in other operations, rebuild TensorFlow with the appropriate compiler flags.\n",
      "2023-09-08 17:42:23.999218: W tensorflow/stream_executor/platform/default/dso_loader.cc:64] Could not load dynamic library 'libcudart.so.11.0'; dlerror: libcudart.so.11.0: cannot open shared object file: No such file or directory\n",
      "2023-09-08 17:42:23.999290: I tensorflow/stream_executor/cuda/cudart_stub.cc:29] Ignore above cudart dlerror if you do not have a GPU set up on your machine.\n",
      "2023-09-08 17:42:24.050080: E tensorflow/stream_executor/cuda/cuda_blas.cc:2981] Unable to register cuBLAS factory: Attempting to register factory for plugin cuBLAS when one has already been registered\n",
      "2023-09-08 17:42:25.377893: W tensorflow/stream_executor/platform/default/dso_loader.cc:64] Could not load dynamic library 'libnvinfer.so.7'; dlerror: libnvinfer.so.7: cannot open shared object file: No such file or directory\n",
      "2023-09-08 17:42:25.378373: W tensorflow/stream_executor/platform/default/dso_loader.cc:64] Could not load dynamic library 'libnvinfer_plugin.so.7'; dlerror: libnvinfer_plugin.so.7: cannot open shared object file: No such file or directory\n",
      "2023-09-08 17:42:25.378395: W tensorflow/compiler/tf2tensorrt/utils/py_utils.cc:38] TF-TRT Warning: Cannot dlopen some TensorRT libraries. If you would like to use Nvidia GPU with TensorRT, please make sure the missing libraries mentioned above are installed properly.\n"
     ]
    }
   ],
   "source": [
    "from flood_prediction.interface.main import *\n",
    "%load_ext autoreload\n",
    "%autoreload 2"
   ]
  },
  {
   "cell_type": "code",
   "execution_count": 17,
   "metadata": {},
   "outputs": [
    {
     "name": "stdout",
     "output_type": "stream",
     "text": [
      "Getting Weather Data\n",
      "(336, 10)\n",
      "Getting Flood Data\n",
      "(336, 1)\n",
      "Merging both dfs\n",
      "(336, 12)\n"
     ]
    }
   ],
   "source": [
    "X_pred = api_request_pred()"
   ]
  },
  {
   "cell_type": "code",
   "execution_count": 18,
   "metadata": {},
   "outputs": [
    {
     "data": {
      "text/plain": [
       "Index(['date', 'T(degC)', 'rain(mm)', 'surf_press(hPa)', 'wind_s(km/h)',\n",
       "       'wind_dir(deg)', 'soil_moisture_0_1cm(m3)', 'soil_moisture_1_3cm(m3)',\n",
       "       'soil_moisture_3_9cm(m3)', 'soil_moisture_9_27cm(m3)',\n",
       "       'radiation(W/m2)', 'river_discharge(m3/s)'],\n",
       "      dtype='object')"
      ]
     },
     "execution_count": 18,
     "metadata": {},
     "output_type": "execute_result"
    }
   ],
   "source": [
    "X_pred.columns"
   ]
  },
  {
   "cell_type": "code",
   "execution_count": 24,
   "metadata": {},
   "outputs": [
    {
     "data": {
      "text/html": [
       "<div>\n",
       "<style scoped>\n",
       "    .dataframe tbody tr th:only-of-type {\n",
       "        vertical-align: middle;\n",
       "    }\n",
       "\n",
       "    .dataframe tbody tr th {\n",
       "        vertical-align: top;\n",
       "    }\n",
       "\n",
       "    .dataframe thead th {\n",
       "        text-align: right;\n",
       "    }\n",
       "</style>\n",
       "<table border=\"1\" class=\"dataframe\">\n",
       "  <thead>\n",
       "    <tr style=\"text-align: right;\">\n",
       "      <th></th>\n",
       "      <th>date</th>\n",
       "      <th>river_discharge(m3/s)</th>\n",
       "    </tr>\n",
       "  </thead>\n",
       "  <tbody>\n",
       "    <tr>\n",
       "      <th>0</th>\n",
       "      <td>2023-08-26</td>\n",
       "      <td>110.17</td>\n",
       "    </tr>\n",
       "    <tr>\n",
       "      <th>24</th>\n",
       "      <td>2023-08-27</td>\n",
       "      <td>78.80</td>\n",
       "    </tr>\n",
       "    <tr>\n",
       "      <th>48</th>\n",
       "      <td>2023-08-28</td>\n",
       "      <td>64.01</td>\n",
       "    </tr>\n",
       "    <tr>\n",
       "      <th>72</th>\n",
       "      <td>2023-08-29</td>\n",
       "      <td>55.62</td>\n",
       "    </tr>\n",
       "    <tr>\n",
       "      <th>96</th>\n",
       "      <td>2023-08-30</td>\n",
       "      <td>49.58</td>\n",
       "    </tr>\n",
       "    <tr>\n",
       "      <th>120</th>\n",
       "      <td>2023-08-31</td>\n",
       "      <td>43.87</td>\n",
       "    </tr>\n",
       "    <tr>\n",
       "      <th>144</th>\n",
       "      <td>2023-09-01</td>\n",
       "      <td>40.11</td>\n",
       "    </tr>\n",
       "    <tr>\n",
       "      <th>168</th>\n",
       "      <td>2023-09-02</td>\n",
       "      <td>37.02</td>\n",
       "    </tr>\n",
       "    <tr>\n",
       "      <th>192</th>\n",
       "      <td>2023-09-03</td>\n",
       "      <td>37.37</td>\n",
       "    </tr>\n",
       "    <tr>\n",
       "      <th>216</th>\n",
       "      <td>2023-09-04</td>\n",
       "      <td>37.28</td>\n",
       "    </tr>\n",
       "    <tr>\n",
       "      <th>240</th>\n",
       "      <td>2023-09-05</td>\n",
       "      <td>42.65</td>\n",
       "    </tr>\n",
       "    <tr>\n",
       "      <th>264</th>\n",
       "      <td>2023-09-06</td>\n",
       "      <td>45.13</td>\n",
       "    </tr>\n",
       "    <tr>\n",
       "      <th>288</th>\n",
       "      <td>2023-09-07</td>\n",
       "      <td>125.18</td>\n",
       "    </tr>\n",
       "    <tr>\n",
       "      <th>312</th>\n",
       "      <td>2023-09-08</td>\n",
       "      <td>91.04</td>\n",
       "    </tr>\n",
       "  </tbody>\n",
       "</table>\n",
       "</div>"
      ],
      "text/plain": [
       "          date  river_discharge(m3/s)\n",
       "0   2023-08-26                 110.17\n",
       "24  2023-08-27                  78.80\n",
       "48  2023-08-28                  64.01\n",
       "72  2023-08-29                  55.62\n",
       "96  2023-08-30                  49.58\n",
       "120 2023-08-31                  43.87\n",
       "144 2023-09-01                  40.11\n",
       "168 2023-09-02                  37.02\n",
       "192 2023-09-03                  37.37\n",
       "216 2023-09-04                  37.28\n",
       "240 2023-09-05                  42.65\n",
       "264 2023-09-06                  45.13\n",
       "288 2023-09-07                 125.18\n",
       "312 2023-09-08                  91.04"
      ]
     },
     "execution_count": 24,
     "metadata": {},
     "output_type": "execute_result"
    }
   ],
   "source": [
    "# printing date and \"river_discharge(m3/s)\" column every 24hs\n",
    "X_pred[['date','river_discharge(m3/s)']].iloc[::24]    "
   ]
  },
  {
   "cell_type": "code",
   "execution_count": 25,
   "metadata": {},
   "outputs": [
    {
     "name": "stdout",
     "output_type": "stream",
     "text": [
      "Pre processing features pred\n",
      "   T(degC)  rain(mm)  surf_press(hPa)  radiation(W/m2)  river_discharge(m3/s)  \\\n",
      "0      5.8       0.0            988.2              0.0                 110.17   \n",
      "1      5.2       0.0            988.2              0.0                 110.17   \n",
      "2      4.5       0.0            987.9              0.0                 110.17   \n",
      "3      3.5       0.0            988.1              0.0                 110.17   \n",
      "4      2.9       0.0            987.6              0.0                 110.17   \n",
      "\n",
      "   soil_moist_0_to_28cm(m3)        Wx        Wy       day_sin   day_cos  \\\n",
      "0                   0.38325 -3.644269  5.015905 -1.117296e-11  1.000000   \n",
      "1                   0.38400 -2.863777  5.385980  2.588190e-01  0.965926   \n",
      "2                   0.38375 -2.905539  5.702442  5.000000e-01  0.866025   \n",
      "3                   0.38425 -2.535710  5.437847  7.071068e-01  0.707107   \n",
      "4                   0.38450 -2.535710  5.437847  8.660254e-01  0.500000   \n",
      "\n",
      "   month_sin  month_cos  year_sin  year_cos  \n",
      "0  -0.966271   0.257526 -0.806379 -0.591400  \n",
      "1  -0.964021   0.265827 -0.806802 -0.590821  \n",
      "2  -0.961698   0.274109 -0.807226 -0.590243  \n",
      "3  -0.959305   0.282371 -0.807648 -0.589664  \n",
      "4  -0.956841   0.290612 -0.808071 -0.589085  \n"
     ]
    },
    {
     "data": {
      "text/html": [
       "<div>\n",
       "<style scoped>\n",
       "    .dataframe tbody tr th:only-of-type {\n",
       "        vertical-align: middle;\n",
       "    }\n",
       "\n",
       "    .dataframe tbody tr th {\n",
       "        vertical-align: top;\n",
       "    }\n",
       "\n",
       "    .dataframe thead th {\n",
       "        text-align: right;\n",
       "    }\n",
       "</style>\n",
       "<table border=\"1\" class=\"dataframe\">\n",
       "  <thead>\n",
       "    <tr style=\"text-align: right;\">\n",
       "      <th></th>\n",
       "      <th>T(degC)</th>\n",
       "      <th>rain(mm)</th>\n",
       "      <th>surf_press(hPa)</th>\n",
       "      <th>radiation(W/m2)</th>\n",
       "      <th>river_discharge(m3/s)</th>\n",
       "      <th>soil_moist_0_to_28cm(m3)</th>\n",
       "      <th>Wx</th>\n",
       "      <th>Wy</th>\n",
       "      <th>day_sin</th>\n",
       "      <th>day_cos</th>\n",
       "      <th>month_sin</th>\n",
       "      <th>month_cos</th>\n",
       "      <th>year_sin</th>\n",
       "      <th>year_cos</th>\n",
       "    </tr>\n",
       "  </thead>\n",
       "  <tbody>\n",
       "    <tr>\n",
       "      <th>0</th>\n",
       "      <td>5.8</td>\n",
       "      <td>0.0</td>\n",
       "      <td>988.2</td>\n",
       "      <td>0.0</td>\n",
       "      <td>110.17</td>\n",
       "      <td>0.38325</td>\n",
       "      <td>-3.644269</td>\n",
       "      <td>5.015905</td>\n",
       "      <td>-1.117296e-11</td>\n",
       "      <td>1.000000</td>\n",
       "      <td>-0.966271</td>\n",
       "      <td>0.257526</td>\n",
       "      <td>-0.806379</td>\n",
       "      <td>-0.591400</td>\n",
       "    </tr>\n",
       "    <tr>\n",
       "      <th>1</th>\n",
       "      <td>5.2</td>\n",
       "      <td>0.0</td>\n",
       "      <td>988.2</td>\n",
       "      <td>0.0</td>\n",
       "      <td>110.17</td>\n",
       "      <td>0.38400</td>\n",
       "      <td>-2.863777</td>\n",
       "      <td>5.385980</td>\n",
       "      <td>2.588190e-01</td>\n",
       "      <td>0.965926</td>\n",
       "      <td>-0.964021</td>\n",
       "      <td>0.265827</td>\n",
       "      <td>-0.806802</td>\n",
       "      <td>-0.590821</td>\n",
       "    </tr>\n",
       "    <tr>\n",
       "      <th>2</th>\n",
       "      <td>4.5</td>\n",
       "      <td>0.0</td>\n",
       "      <td>987.9</td>\n",
       "      <td>0.0</td>\n",
       "      <td>110.17</td>\n",
       "      <td>0.38375</td>\n",
       "      <td>-2.905539</td>\n",
       "      <td>5.702442</td>\n",
       "      <td>5.000000e-01</td>\n",
       "      <td>0.866025</td>\n",
       "      <td>-0.961698</td>\n",
       "      <td>0.274109</td>\n",
       "      <td>-0.807226</td>\n",
       "      <td>-0.590243</td>\n",
       "    </tr>\n",
       "    <tr>\n",
       "      <th>3</th>\n",
       "      <td>3.5</td>\n",
       "      <td>0.0</td>\n",
       "      <td>988.1</td>\n",
       "      <td>0.0</td>\n",
       "      <td>110.17</td>\n",
       "      <td>0.38425</td>\n",
       "      <td>-2.535710</td>\n",
       "      <td>5.437847</td>\n",
       "      <td>7.071068e-01</td>\n",
       "      <td>0.707107</td>\n",
       "      <td>-0.959305</td>\n",
       "      <td>0.282371</td>\n",
       "      <td>-0.807648</td>\n",
       "      <td>-0.589664</td>\n",
       "    </tr>\n",
       "    <tr>\n",
       "      <th>4</th>\n",
       "      <td>2.9</td>\n",
       "      <td>0.0</td>\n",
       "      <td>987.6</td>\n",
       "      <td>0.0</td>\n",
       "      <td>110.17</td>\n",
       "      <td>0.38450</td>\n",
       "      <td>-2.535710</td>\n",
       "      <td>5.437847</td>\n",
       "      <td>8.660254e-01</td>\n",
       "      <td>0.500000</td>\n",
       "      <td>-0.956841</td>\n",
       "      <td>0.290612</td>\n",
       "      <td>-0.808071</td>\n",
       "      <td>-0.589085</td>\n",
       "    </tr>\n",
       "  </tbody>\n",
       "</table>\n",
       "</div>"
      ],
      "text/plain": [
       "   T(degC)  rain(mm)  surf_press(hPa)  radiation(W/m2)  river_discharge(m3/s)  \\\n",
       "0      5.8       0.0            988.2              0.0                 110.17   \n",
       "1      5.2       0.0            988.2              0.0                 110.17   \n",
       "2      4.5       0.0            987.9              0.0                 110.17   \n",
       "3      3.5       0.0            988.1              0.0                 110.17   \n",
       "4      2.9       0.0            987.6              0.0                 110.17   \n",
       "\n",
       "   soil_moist_0_to_28cm(m3)        Wx        Wy       day_sin   day_cos  \\\n",
       "0                   0.38325 -3.644269  5.015905 -1.117296e-11  1.000000   \n",
       "1                   0.38400 -2.863777  5.385980  2.588190e-01  0.965926   \n",
       "2                   0.38375 -2.905539  5.702442  5.000000e-01  0.866025   \n",
       "3                   0.38425 -2.535710  5.437847  7.071068e-01  0.707107   \n",
       "4                   0.38450 -2.535710  5.437847  8.660254e-01  0.500000   \n",
       "\n",
       "   month_sin  month_cos  year_sin  year_cos  \n",
       "0  -0.966271   0.257526 -0.806379 -0.591400  \n",
       "1  -0.964021   0.265827 -0.806802 -0.590821  \n",
       "2  -0.961698   0.274109 -0.807226 -0.590243  \n",
       "3  -0.959305   0.282371 -0.807648 -0.589664  \n",
       "4  -0.956841   0.290612 -0.808071 -0.589085  "
      ]
     },
     "execution_count": 25,
     "metadata": {},
     "output_type": "execute_result"
    }
   ],
   "source": [
    "X_processed = preprocess_features_pred(X_pred)\n",
    "X_processed.head()"
   ]
  },
  {
   "cell_type": "code",
   "execution_count": 27,
   "metadata": {},
   "outputs": [
    {
     "data": {
      "text/plain": [
       "<tf.Tensor: shape=(1, 1, 336, 14), dtype=float64, numpy=\n",
       "array([[[[ 5.80000000e+00,  0.00000000e+00,  9.88200000e+02, ...,\n",
       "           2.57525834e-01, -8.06378639e-01, -5.91399603e-01],\n",
       "         [ 5.20000000e+00,  0.00000000e+00,  9.88200000e+02, ...,\n",
       "           2.65827481e-01, -8.06802337e-01, -5.90821453e-01],\n",
       "         [ 4.50000000e+00,  0.00000000e+00,  9.87900000e+02, ...,\n",
       "           2.74109461e-01, -8.07225620e-01, -5.90243000e-01],\n",
       "         ...,\n",
       "         [ 1.27000000e+01,  0.00000000e+00,  9.84400000e+02, ...,\n",
       "           1.68686732e-02, -9.23340647e-01, -3.83981834e-01],\n",
       "         [ 1.18000000e+01,  0.00000000e+00,  9.84500000e+02, ...,\n",
       "           8.26799053e-03, -9.23615642e-01, -3.83319901e-01],\n",
       "         [ 1.12000000e+01,  0.00000000e+00,  9.84800000e+02, ...,\n",
       "          -3.33303800e-04, -9.23890161e-01, -3.82657771e-01]]]])>"
      ]
     },
     "execution_count": 27,
     "metadata": {},
     "output_type": "execute_result"
    }
   ],
   "source": [
    "X_processed = tf.expand_dims(X_processed, axis=0)\n",
    "X_processed"
   ]
  },
  {
   "cell_type": "code",
   "execution_count": null,
   "metadata": {},
   "outputs": [],
   "source": [
    "# printing df correlation matrix in blue colors\n",
    "corr = X_pred.corr()\n",
    "corr.style.background_gradient(cmap='coolwarm')"
   ]
  }
 ],
 "metadata": {
  "kernelspec": {
   "display_name": "flood_pred",
   "language": "python",
   "name": "python3"
  },
  "language_info": {
   "codemirror_mode": {
    "name": "ipython",
    "version": 3
   },
   "file_extension": ".py",
   "mimetype": "text/x-python",
   "name": "python",
   "nbconvert_exporter": "python",
   "pygments_lexer": "ipython3",
   "version": "3.10.6"
  },
  "orig_nbformat": 4
 },
 "nbformat": 4,
 "nbformat_minor": 2
}
