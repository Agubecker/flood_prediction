{
 "cells": [
  {
   "cell_type": "code",
   "execution_count": 3,
   "metadata": {},
   "outputs": [],
   "source": [
    "import pandas as pd\n",
    "import numpy as np\n",
    "import sys\n",
    "sys.path.append('../flood_prediction') # going to the parent folder of the current folder\n",
    "from data_prep import get_data_and_targets\n",
    "\n",
    "# Data Visualiation\n",
    "import matplotlib.pyplot as plt\n",
    "import seaborn as sns\n",
    "\n",
    "# Deep Learning\n",
    "import tensorflow as tf"
   ]
  },
  {
   "cell_type": "markdown",
   "metadata": {},
   "source": [
    "# Getting data from API (data_prep.py)"
   ]
  },
  {
   "cell_type": "code",
   "execution_count": 4,
   "metadata": {},
   "outputs": [],
   "source": [
    "df = get_data_and_targets()"
   ]
  },
  {
   "cell_type": "code",
   "execution_count": 5,
   "metadata": {},
   "outputs": [
    {
     "data": {
      "text/plain": [
       "(347709, 11)"
      ]
     },
     "execution_count": 5,
     "metadata": {},
     "output_type": "execute_result"
    }
   ],
   "source": [
    "df.shape"
   ]
  },
  {
   "cell_type": "code",
   "execution_count": 6,
   "metadata": {},
   "outputs": [
    {
     "data": {
      "text/html": [
       "<div>\n",
       "<style scoped>\n",
       "    .dataframe tbody tr th:only-of-type {\n",
       "        vertical-align: middle;\n",
       "    }\n",
       "\n",
       "    .dataframe tbody tr th {\n",
       "        vertical-align: top;\n",
       "    }\n",
       "\n",
       "    .dataframe thead th {\n",
       "        text-align: right;\n",
       "    }\n",
       "</style>\n",
       "<table border=\"1\" class=\"dataframe\">\n",
       "  <thead>\n",
       "    <tr style=\"text-align: right;\">\n",
       "      <th></th>\n",
       "      <th>date</th>\n",
       "      <th>T(degC)</th>\n",
       "      <th>rain(mm)</th>\n",
       "      <th>surf_press(hPa)</th>\n",
       "      <th>wind_s(km/h)</th>\n",
       "      <th>wind_dir(deg)</th>\n",
       "      <th>soil_moist_0_to_7cm(m3)</th>\n",
       "      <th>soil_moist_7_to_28cm(m3)</th>\n",
       "      <th>radiation(W/m2)</th>\n",
       "      <th>river_discharge(m3/s)</th>\n",
       "      <th>target</th>\n",
       "    </tr>\n",
       "  </thead>\n",
       "  <tbody>\n",
       "    <tr>\n",
       "      <th>347704</th>\n",
       "      <td>2023-08-31 16:00:00</td>\n",
       "      <td>20.6</td>\n",
       "      <td>0.0</td>\n",
       "      <td>981.4</td>\n",
       "      <td>10.5</td>\n",
       "      <td>221.0</td>\n",
       "      <td>0.413</td>\n",
       "      <td>0.432</td>\n",
       "      <td>646.0</td>\n",
       "      <td>43.87</td>\n",
       "      <td>0</td>\n",
       "    </tr>\n",
       "    <tr>\n",
       "      <th>347705</th>\n",
       "      <td>2023-08-31 17:00:00</td>\n",
       "      <td>19.9</td>\n",
       "      <td>0.0</td>\n",
       "      <td>981.6</td>\n",
       "      <td>11.7</td>\n",
       "      <td>223.0</td>\n",
       "      <td>0.412</td>\n",
       "      <td>0.432</td>\n",
       "      <td>509.0</td>\n",
       "      <td>43.87</td>\n",
       "      <td>0</td>\n",
       "    </tr>\n",
       "    <tr>\n",
       "      <th>347706</th>\n",
       "      <td>2023-08-31 18:00:00</td>\n",
       "      <td>18.9</td>\n",
       "      <td>0.0</td>\n",
       "      <td>981.9</td>\n",
       "      <td>8.5</td>\n",
       "      <td>208.0</td>\n",
       "      <td>0.411</td>\n",
       "      <td>0.431</td>\n",
       "      <td>324.0</td>\n",
       "      <td>43.87</td>\n",
       "      <td>0</td>\n",
       "    </tr>\n",
       "    <tr>\n",
       "      <th>347707</th>\n",
       "      <td>2023-08-31 19:00:00</td>\n",
       "      <td>17.6</td>\n",
       "      <td>0.0</td>\n",
       "      <td>981.1</td>\n",
       "      <td>5.4</td>\n",
       "      <td>200.0</td>\n",
       "      <td>0.411</td>\n",
       "      <td>0.431</td>\n",
       "      <td>121.0</td>\n",
       "      <td>43.87</td>\n",
       "      <td>0</td>\n",
       "    </tr>\n",
       "    <tr>\n",
       "      <th>347708</th>\n",
       "      <td>2023-08-31 20:00:00</td>\n",
       "      <td>16.8</td>\n",
       "      <td>0.0</td>\n",
       "      <td>981.3</td>\n",
       "      <td>3.9</td>\n",
       "      <td>214.0</td>\n",
       "      <td>0.411</td>\n",
       "      <td>0.431</td>\n",
       "      <td>6.0</td>\n",
       "      <td>43.87</td>\n",
       "      <td>0</td>\n",
       "    </tr>\n",
       "  </tbody>\n",
       "</table>\n",
       "</div>"
      ],
      "text/plain": [
       "                      date  T(degC)  rain(mm)  surf_press(hPa)  wind_s(km/h)  \\\n",
       "347704 2023-08-31 16:00:00     20.6       0.0            981.4          10.5   \n",
       "347705 2023-08-31 17:00:00     19.9       0.0            981.6          11.7   \n",
       "347706 2023-08-31 18:00:00     18.9       0.0            981.9           8.5   \n",
       "347707 2023-08-31 19:00:00     17.6       0.0            981.1           5.4   \n",
       "347708 2023-08-31 20:00:00     16.8       0.0            981.3           3.9   \n",
       "\n",
       "        wind_dir(deg)  soil_moist_0_to_7cm(m3)  soil_moist_7_to_28cm(m3)  \\\n",
       "347704          221.0                    0.413                     0.432   \n",
       "347705          223.0                    0.412                     0.432   \n",
       "347706          208.0                    0.411                     0.431   \n",
       "347707          200.0                    0.411                     0.431   \n",
       "347708          214.0                    0.411                     0.431   \n",
       "\n",
       "        radiation(W/m2)  river_discharge(m3/s)  target  \n",
       "347704            646.0                  43.87       0  \n",
       "347705            509.0                  43.87       0  \n",
       "347706            324.0                  43.87       0  \n",
       "347707            121.0                  43.87       0  \n",
       "347708              6.0                  43.87       0  "
      ]
     },
     "execution_count": 6,
     "metadata": {},
     "output_type": "execute_result"
    }
   ],
   "source": [
    "df.tail(5)"
   ]
  },
  {
   "cell_type": "code",
   "execution_count": 7,
   "metadata": {},
   "outputs": [
    {
     "data": {
      "text/plain": [
       "(347709, 10)"
      ]
     },
     "execution_count": 7,
     "metadata": {},
     "output_type": "execute_result"
    }
   ],
   "source": [
    "df.drop(columns='target', inplace=True)\n",
    "df.shape"
   ]
  },
  {
   "cell_type": "markdown",
   "metadata": {},
   "source": [
    "# Feature Engineering"
   ]
  },
  {
   "cell_type": "code",
   "execution_count": 8,
   "metadata": {},
   "outputs": [],
   "source": [
    "# Convert degrees to radians and store the values into wd_rad\n",
    "wd_rad = df.pop('wind_dir(deg)')*np.pi / 180\n",
    "\n",
    "# Calculate the wind x and y components and store then in two new columns\n",
    "# `Wx` and `Wy`\n",
    "wv = df.pop('wind_s(km/h)')\n",
    "df['Wx'] = wv*np.cos(wd_rad)\n",
    "df['Wy'] = wv*np.sin(wd_rad)\n"
   ]
  },
  {
   "cell_type": "code",
   "execution_count": 9,
   "metadata": {},
   "outputs": [],
   "source": [
    "# Similarly to the wind direction, the time in seconds is not a useful model input\n",
    "# The weather dataset has clear daily and yearly periodicities\n",
    "# Using sine and cosine functions, we can compute:\n",
    "# - the time of the day\n",
    "# - the time of the year\n",
    "\n",
    "# Collecting the timestamps\n",
    "datetime_df = pd.to_datetime(df.pop('date'), format='%Y-%m-%d %H:%M:%S')\n",
    "timestamps_s =  datetime_df.map(pd.Timestamp.timestamp)\n",
    "timestamps_s\n",
    "\n",
    "# 24 hours x 60 minutes/hour x 60 seconds/minute\n",
    "day = 24*60*60 \n",
    "\n",
    "# 1 month in days\n",
    "month = (365.2425/12)*day\n",
    "\n",
    "# 1 year in days\n",
    "year = (365.2425)*day\n",
    "\n",
    "# Day periodicity\n",
    "df['day_sin'] = np.sin(timestamps_s * (2 * np.pi / day))\n",
    "df['day_cos'] = np.cos(timestamps_s * (2 * np.pi / day))\n",
    "\n",
    "# Month periodicity\n",
    "df['month_sin'] = np.sin(timestamps_s * (2 * np.pi / month))\n",
    "df['month_cos'] = np.cos(timestamps_s * (2 * np.pi / month))\n",
    "\n",
    "# Year periodicity\n",
    "df['year_sin'] = np.sin(timestamps_s * (2 * np.pi / year))\n",
    "df['year_cos'] = np.cos(timestamps_s * (2 * np.pi / year))"
   ]
  },
  {
   "cell_type": "code",
   "execution_count": 21,
   "metadata": {},
   "outputs": [
    {
     "data": {
      "text/html": [
       "<div>\n",
       "<style scoped>\n",
       "    .dataframe tbody tr th:only-of-type {\n",
       "        vertical-align: middle;\n",
       "    }\n",
       "\n",
       "    .dataframe tbody tr th {\n",
       "        vertical-align: top;\n",
       "    }\n",
       "\n",
       "    .dataframe thead th {\n",
       "        text-align: right;\n",
       "    }\n",
       "</style>\n",
       "<table border=\"1\" class=\"dataframe\">\n",
       "  <thead>\n",
       "    <tr style=\"text-align: right;\">\n",
       "      <th></th>\n",
       "      <th>T(degC)</th>\n",
       "      <th>rain(mm)</th>\n",
       "      <th>surf_press(hPa)</th>\n",
       "      <th>soil_moist_0_to_7cm(m3)</th>\n",
       "      <th>soil_moist_7_to_28cm(m3)</th>\n",
       "      <th>radiation(W/m2)</th>\n",
       "      <th>river_discharge(m3/s)</th>\n",
       "      <th>Wx</th>\n",
       "      <th>Wy</th>\n",
       "      <th>day_sin</th>\n",
       "      <th>day_cos</th>\n",
       "      <th>month_sin</th>\n",
       "      <th>month_cos</th>\n",
       "      <th>year_sin</th>\n",
       "      <th>year_cos</th>\n",
       "    </tr>\n",
       "  </thead>\n",
       "  <tbody>\n",
       "    <tr>\n",
       "      <th>0</th>\n",
       "      <td>19.2</td>\n",
       "      <td>0.0</td>\n",
       "      <td>982.1</td>\n",
       "      <td>0.251</td>\n",
       "      <td>0.278</td>\n",
       "      <td>0.0</td>\n",
       "      <td>48.77</td>\n",
       "      <td>3.935789</td>\n",
       "      <td>-2.181643</td>\n",
       "      <td>-2.239978e-12</td>\n",
       "      <td>1.000000</td>\n",
       "      <td>-0.081451</td>\n",
       "      <td>0.996677</td>\n",
       "      <td>-0.006795</td>\n",
       "      <td>0.999977</td>\n",
       "    </tr>\n",
       "    <tr>\n",
       "      <th>1</th>\n",
       "      <td>19.1</td>\n",
       "      <td>0.0</td>\n",
       "      <td>981.9</td>\n",
       "      <td>0.251</td>\n",
       "      <td>0.278</td>\n",
       "      <td>0.0</td>\n",
       "      <td>48.77</td>\n",
       "      <td>3.935789</td>\n",
       "      <td>-2.181643</td>\n",
       "      <td>2.588190e-01</td>\n",
       "      <td>0.965926</td>\n",
       "      <td>-0.072875</td>\n",
       "      <td>0.997341</td>\n",
       "      <td>-0.006078</td>\n",
       "      <td>0.999982</td>\n",
       "    </tr>\n",
       "    <tr>\n",
       "      <th>2</th>\n",
       "      <td>18.6</td>\n",
       "      <td>0.0</td>\n",
       "      <td>982.0</td>\n",
       "      <td>0.251</td>\n",
       "      <td>0.278</td>\n",
       "      <td>0.0</td>\n",
       "      <td>48.77</td>\n",
       "      <td>3.960296</td>\n",
       "      <td>-1.061158</td>\n",
       "      <td>5.000000e-01</td>\n",
       "      <td>0.866025</td>\n",
       "      <td>-0.064294</td>\n",
       "      <td>0.997931</td>\n",
       "      <td>-0.005362</td>\n",
       "      <td>0.999986</td>\n",
       "    </tr>\n",
       "    <tr>\n",
       "      <th>3</th>\n",
       "      <td>18.2</td>\n",
       "      <td>0.0</td>\n",
       "      <td>981.9</td>\n",
       "      <td>0.251</td>\n",
       "      <td>0.278</td>\n",
       "      <td>0.0</td>\n",
       "      <td>48.77</td>\n",
       "      <td>3.580279</td>\n",
       "      <td>0.376302</td>\n",
       "      <td>7.071068e-01</td>\n",
       "      <td>0.707107</td>\n",
       "      <td>-0.055708</td>\n",
       "      <td>0.998447</td>\n",
       "      <td>-0.004645</td>\n",
       "      <td>0.999989</td>\n",
       "    </tr>\n",
       "    <tr>\n",
       "      <th>4</th>\n",
       "      <td>17.7</td>\n",
       "      <td>0.0</td>\n",
       "      <td>981.9</td>\n",
       "      <td>0.251</td>\n",
       "      <td>0.278</td>\n",
       "      <td>0.0</td>\n",
       "      <td>48.77</td>\n",
       "      <td>3.632021</td>\n",
       "      <td>0.705993</td>\n",
       "      <td>8.660254e-01</td>\n",
       "      <td>0.500000</td>\n",
       "      <td>-0.047118</td>\n",
       "      <td>0.998889</td>\n",
       "      <td>-0.003928</td>\n",
       "      <td>0.999992</td>\n",
       "    </tr>\n",
       "  </tbody>\n",
       "</table>\n",
       "</div>"
      ],
      "text/plain": [
       "   T(degC)  rain(mm)  surf_press(hPa)  soil_moist_0_to_7cm(m3)  \\\n",
       "0     19.2       0.0            982.1                    0.251   \n",
       "1     19.1       0.0            981.9                    0.251   \n",
       "2     18.6       0.0            982.0                    0.251   \n",
       "3     18.2       0.0            981.9                    0.251   \n",
       "4     17.7       0.0            981.9                    0.251   \n",
       "\n",
       "   soil_moist_7_to_28cm(m3)  radiation(W/m2)  river_discharge(m3/s)        Wx  \\\n",
       "0                     0.278              0.0                  48.77  3.935789   \n",
       "1                     0.278              0.0                  48.77  3.935789   \n",
       "2                     0.278              0.0                  48.77  3.960296   \n",
       "3                     0.278              0.0                  48.77  3.580279   \n",
       "4                     0.278              0.0                  48.77  3.632021   \n",
       "\n",
       "         Wy       day_sin   day_cos  month_sin  month_cos  year_sin  year_cos  \n",
       "0 -2.181643 -2.239978e-12  1.000000  -0.081451   0.996677 -0.006795  0.999977  \n",
       "1 -2.181643  2.588190e-01  0.965926  -0.072875   0.997341 -0.006078  0.999982  \n",
       "2 -1.061158  5.000000e-01  0.866025  -0.064294   0.997931 -0.005362  0.999986  \n",
       "3  0.376302  7.071068e-01  0.707107  -0.055708   0.998447 -0.004645  0.999989  \n",
       "4  0.705993  8.660254e-01  0.500000  -0.047118   0.998889 -0.003928  0.999992  "
      ]
     },
     "execution_count": 21,
     "metadata": {},
     "output_type": "execute_result"
    }
   ],
   "source": [
    "df.head()"
   ]
  },
  {
   "cell_type": "code",
   "execution_count": 23,
   "metadata": {},
   "outputs": [
    {
     "data": {
      "text/plain": [
       "(347709, 15)"
      ]
     },
     "execution_count": 23,
     "metadata": {},
     "output_type": "execute_result"
    }
   ],
   "source": [
    "df.shape"
   ]
  },
  {
   "cell_type": "markdown",
   "metadata": {},
   "source": [
    "# Defining goblal variables of the data set"
   ]
  },
  {
   "cell_type": "code",
   "execution_count": 24,
   "metadata": {},
   "outputs": [],
   "source": [
    "TARGET = 'river_discharge(m3/s)'"
   ]
  },
  {
   "cell_type": "code",
   "execution_count": 25,
   "metadata": {},
   "outputs": [
    {
     "data": {
      "image/png": "[encoded data removed]",
      "text/plain": [
       "<Figure size 640x480 with 3 Axes>"
      ]
     },
     "metadata": {},
     "output_type": "display_data"
    }
   ],
   "source": [
    "plot_cols = [TARGET, 'surf_press(hPa)', 'rain(mm)']\n",
    "plot_features = df[plot_cols]\n",
    "plot_features.index = df.index\n",
    "plot_features.plot(subplots = True);"
   ]
  },
  {
   "cell_type": "code",
   "execution_count": 16,
   "metadata": {},
   "outputs": [],
   "source": [
    "DATA = dict(\n",
    "    length = 347685, # How many timesteps does your dataset contains?\n",
    "    n_covariates = 8, # number of past covariates, excluding target time series. Our tests do not support future_covariate yet.\n",
    "    target_column_idx = [0] # List of index(es) of target column(s) in your dataset. e.g [0] for Mono-target problem, e.g. [0,1,4] for multi-variate targets problem. Note that past targets values will also be used as features X.\n",
    ")"
   ]
  },
  {
   "cell_type": "markdown",
   "metadata": {},
   "source": [
    "# Creating Folds"
   ]
  },
  {
   "cell_type": "markdown",
   "metadata": {},
   "source": [
    "### A visual reminder"
   ]
  },
  {
   "cell_type": "markdown",
   "metadata": {},
   "source": [
    "<hr> \n",
    "\n",
    "<img src=\"https://wagon-public-datasets.s3.amazonaws.com/data-science-images/06-DL/time_series_cross_validation.png\" alt=\"Time Series Cross Validation\" width=\"800\">\n",
    "\n",
    "<hr>"
   ]
  },
  {
   "cell_type": "markdown",
   "metadata": {},
   "source": [
    "### Defining global variables"
   ]
  },
  {
   "cell_type": "code",
   "execution_count": 26,
   "metadata": {},
   "outputs": [],
   "source": [
    "# Considering folds of 1 year\n",
    "FOLD_LENGTH = 24 * 365\n",
    "\n",
    "# Folds starting every trimester\n",
    "FOLD_STRIDE = 24 * 91  # 1 quarter = 91 days\n",
    "\n",
    "# train-test-split ratio of 2/3 \n",
    "TRAIN_TEST_RATIO = 0.66"
   ]
  },
  {
   "cell_type": "markdown",
   "metadata": {},
   "source": [
    "### Function to get folds"
   ]
  },
  {
   "cell_type": "code",
   "execution_count": 27,
   "metadata": {},
   "outputs": [],
   "source": [
    "def get_folds(\n",
    "    df: pd.DataFrame,\n",
    "    fold_length: int,\n",
    "    fold_stride: int) -> list[pd.DataFrame]:\n",
    "    \"\"\"    \n",
    "    This function slides through the Time Series dataframe of shape (n_timesteps, n_features) to create folds\n",
    "    - of equal `fold_length`\n",
    "    - using `fold_stride` between each fold\n",
    "\n",
    "    Args:\n",
    "        df (pd.DataFrame): Overall dataframe\n",
    "        fold_length (int): How long each fold should be in rows\n",
    "        fold_stride (int): How many timesteps to move forward between taking each fold\n",
    "\n",
    "    Returns:\n",
    "        List[pd.DataFrame]: A list where each fold is a dataframe within\n",
    "    \"\"\"\n",
    " \n",
    "    \n",
    "    folds = []\n",
    "    for idx in range(0, len(df), fold_stride):\n",
    "        # Exits the loop as soon as the last fold index would exceed the last index\n",
    "        if (idx + fold_length) > len(df):\n",
    "            break\n",
    "        fold = df.iloc[idx:idx + fold_length, :]\n",
    "        folds.append(fold)\n",
    "    return folds"
   ]
  },
  {
   "cell_type": "code",
   "execution_count": 28,
   "metadata": {},
   "outputs": [
    {
     "name": "stdout",
     "output_type": "stream",
     "text": [
      "The function generated 156 folds.\n",
      "Each fold has a shape equal to (8760, 15).\n"
     ]
    }
   ],
   "source": [
    "folds = get_folds(df, FOLD_LENGTH, FOLD_STRIDE)\n",
    "print(f'The function generated {len(folds)} folds.')\n",
    "print(f'Each fold has a shape equal to {folds[0].shape}.')"
   ]
  },
  {
   "cell_type": "code",
   "execution_count": 29,
   "metadata": {},
   "outputs": [
    {
     "data": {
      "text/html": [
       "<div>\n",
       "<style scoped>\n",
       "    .dataframe tbody tr th:only-of-type {\n",
       "        vertical-align: middle;\n",
       "    }\n",
       "\n",
       "    .dataframe tbody tr th {\n",
       "        vertical-align: top;\n",
       "    }\n",
       "\n",
       "    .dataframe thead th {\n",
       "        text-align: right;\n",
       "    }\n",
       "</style>\n",
       "<table border=\"1\" class=\"dataframe\">\n",
       "  <thead>\n",
       "    <tr style=\"text-align: right;\">\n",
       "      <th></th>\n",
       "      <th>T(degC)</th>\n",
       "      <th>rain(mm)</th>\n",
       "      <th>surf_press(hPa)</th>\n",
       "      <th>soil_moist_0_to_7cm(m3)</th>\n",
       "      <th>soil_moist_7_to_28cm(m3)</th>\n",
       "      <th>radiation(W/m2)</th>\n",
       "      <th>river_discharge(m3/s)</th>\n",
       "      <th>Wx</th>\n",
       "      <th>Wy</th>\n",
       "      <th>day_sin</th>\n",
       "      <th>day_cos</th>\n",
       "      <th>month_sin</th>\n",
       "      <th>month_cos</th>\n",
       "      <th>year_sin</th>\n",
       "      <th>year_cos</th>\n",
       "    </tr>\n",
       "  </thead>\n",
       "  <tbody>\n",
       "    <tr>\n",
       "      <th>0</th>\n",
       "      <td>19.2</td>\n",
       "      <td>0.0</td>\n",
       "      <td>982.1</td>\n",
       "      <td>0.251</td>\n",
       "      <td>0.278</td>\n",
       "      <td>0.0</td>\n",
       "      <td>48.77</td>\n",
       "      <td>3.935789</td>\n",
       "      <td>-2.181643</td>\n",
       "      <td>-2.239978e-12</td>\n",
       "      <td>1.000000</td>\n",
       "      <td>-0.081451</td>\n",
       "      <td>0.996677</td>\n",
       "      <td>-0.006795</td>\n",
       "      <td>0.999977</td>\n",
       "    </tr>\n",
       "    <tr>\n",
       "      <th>1</th>\n",
       "      <td>19.1</td>\n",
       "      <td>0.0</td>\n",
       "      <td>981.9</td>\n",
       "      <td>0.251</td>\n",
       "      <td>0.278</td>\n",
       "      <td>0.0</td>\n",
       "      <td>48.77</td>\n",
       "      <td>3.935789</td>\n",
       "      <td>-2.181643</td>\n",
       "      <td>2.588190e-01</td>\n",
       "      <td>0.965926</td>\n",
       "      <td>-0.072875</td>\n",
       "      <td>0.997341</td>\n",
       "      <td>-0.006078</td>\n",
       "      <td>0.999982</td>\n",
       "    </tr>\n",
       "    <tr>\n",
       "      <th>2</th>\n",
       "      <td>18.6</td>\n",
       "      <td>0.0</td>\n",
       "      <td>982.0</td>\n",
       "      <td>0.251</td>\n",
       "      <td>0.278</td>\n",
       "      <td>0.0</td>\n",
       "      <td>48.77</td>\n",
       "      <td>3.960296</td>\n",
       "      <td>-1.061158</td>\n",
       "      <td>5.000000e-01</td>\n",
       "      <td>0.866025</td>\n",
       "      <td>-0.064294</td>\n",
       "      <td>0.997931</td>\n",
       "      <td>-0.005362</td>\n",
       "      <td>0.999986</td>\n",
       "    </tr>\n",
       "    <tr>\n",
       "      <th>3</th>\n",
       "      <td>18.2</td>\n",
       "      <td>0.0</td>\n",
       "      <td>981.9</td>\n",
       "      <td>0.251</td>\n",
       "      <td>0.278</td>\n",
       "      <td>0.0</td>\n",
       "      <td>48.77</td>\n",
       "      <td>3.580279</td>\n",
       "      <td>0.376302</td>\n",
       "      <td>7.071068e-01</td>\n",
       "      <td>0.707107</td>\n",
       "      <td>-0.055708</td>\n",
       "      <td>0.998447</td>\n",
       "      <td>-0.004645</td>\n",
       "      <td>0.999989</td>\n",
       "    </tr>\n",
       "    <tr>\n",
       "      <th>4</th>\n",
       "      <td>17.7</td>\n",
       "      <td>0.0</td>\n",
       "      <td>981.9</td>\n",
       "      <td>0.251</td>\n",
       "      <td>0.278</td>\n",
       "      <td>0.0</td>\n",
       "      <td>48.77</td>\n",
       "      <td>3.632021</td>\n",
       "      <td>0.705993</td>\n",
       "      <td>8.660254e-01</td>\n",
       "      <td>0.500000</td>\n",
       "      <td>-0.047118</td>\n",
       "      <td>0.998889</td>\n",
       "      <td>-0.003928</td>\n",
       "      <td>0.999992</td>\n",
       "    </tr>\n",
       "    <tr>\n",
       "      <th>...</th>\n",
       "      <td>...</td>\n",
       "      <td>...</td>\n",
       "      <td>...</td>\n",
       "      <td>...</td>\n",
       "      <td>...</td>\n",
       "      <td>...</td>\n",
       "      <td>...</td>\n",
       "      <td>...</td>\n",
       "      <td>...</td>\n",
       "      <td>...</td>\n",
       "      <td>...</td>\n",
       "      <td>...</td>\n",
       "      <td>...</td>\n",
       "      <td>...</td>\n",
       "      <td>...</td>\n",
       "    </tr>\n",
       "    <tr>\n",
       "      <th>8755</th>\n",
       "      <td>24.9</td>\n",
       "      <td>0.0</td>\n",
       "      <td>980.7</td>\n",
       "      <td>0.258</td>\n",
       "      <td>0.279</td>\n",
       "      <td>460.0</td>\n",
       "      <td>85.30</td>\n",
       "      <td>-6.478708</td>\n",
       "      <td>-12.184677</td>\n",
       "      <td>-9.659258e-01</td>\n",
       "      <td>0.258819</td>\n",
       "      <td>-0.173722</td>\n",
       "      <td>0.984795</td>\n",
       "      <td>-0.014550</td>\n",
       "      <td>0.999894</td>\n",
       "    </tr>\n",
       "    <tr>\n",
       "      <th>8756</th>\n",
       "      <td>23.3</td>\n",
       "      <td>0.0</td>\n",
       "      <td>980.6</td>\n",
       "      <td>0.258</td>\n",
       "      <td>0.279</td>\n",
       "      <td>247.0</td>\n",
       "      <td>85.30</td>\n",
       "      <td>-4.734408</td>\n",
       "      <td>-9.706976</td>\n",
       "      <td>-8.660254e-01</td>\n",
       "      <td>0.500000</td>\n",
       "      <td>-0.165245</td>\n",
       "      <td>0.986252</td>\n",
       "      <td>-0.013833</td>\n",
       "      <td>0.999904</td>\n",
       "    </tr>\n",
       "    <tr>\n",
       "      <th>8757</th>\n",
       "      <td>21.5</td>\n",
       "      <td>0.0</td>\n",
       "      <td>980.8</td>\n",
       "      <td>0.258</td>\n",
       "      <td>0.279</td>\n",
       "      <td>55.0</td>\n",
       "      <td>85.30</td>\n",
       "      <td>-1.761397</td>\n",
       "      <td>-5.421022</td>\n",
       "      <td>-7.071068e-01</td>\n",
       "      <td>0.707107</td>\n",
       "      <td>-0.156756</td>\n",
       "      <td>0.987637</td>\n",
       "      <td>-0.013117</td>\n",
       "      <td>0.999914</td>\n",
       "    </tr>\n",
       "    <tr>\n",
       "      <th>8758</th>\n",
       "      <td>20.1</td>\n",
       "      <td>0.0</td>\n",
       "      <td>980.8</td>\n",
       "      <td>0.258</td>\n",
       "      <td>0.279</td>\n",
       "      <td>0.0</td>\n",
       "      <td>85.30</td>\n",
       "      <td>-1.427339</td>\n",
       "      <td>-5.724745</td>\n",
       "      <td>-5.000000e-01</td>\n",
       "      <td>0.866025</td>\n",
       "      <td>-0.148255</td>\n",
       "      <td>0.988949</td>\n",
       "      <td>-0.012400</td>\n",
       "      <td>0.999923</td>\n",
       "    </tr>\n",
       "    <tr>\n",
       "      <th>8759</th>\n",
       "      <td>18.8</td>\n",
       "      <td>0.0</td>\n",
       "      <td>980.9</td>\n",
       "      <td>0.258</td>\n",
       "      <td>0.279</td>\n",
       "      <td>0.0</td>\n",
       "      <td>85.30</td>\n",
       "      <td>-1.449387</td>\n",
       "      <td>-5.409185</td>\n",
       "      <td>-2.588190e-01</td>\n",
       "      <td>0.965926</td>\n",
       "      <td>-0.139744</td>\n",
       "      <td>0.990188</td>\n",
       "      <td>-0.011683</td>\n",
       "      <td>0.999932</td>\n",
       "    </tr>\n",
       "  </tbody>\n",
       "</table>\n",
       "<p>8760 rows × 15 columns</p>\n",
       "</div>"
      ],
      "text/plain": [
       "      T(degC)  rain(mm)  surf_press(hPa)  soil_moist_0_to_7cm(m3)  \\\n",
       "0        19.2       0.0            982.1                    0.251   \n",
       "1        19.1       0.0            981.9                    0.251   \n",
       "2        18.6       0.0            982.0                    0.251   \n",
       "3        18.2       0.0            981.9                    0.251   \n",
       "4        17.7       0.0            981.9                    0.251   \n",
       "...       ...       ...              ...                      ...   \n",
       "8755     24.9       0.0            980.7                    0.258   \n",
       "8756     23.3       0.0            980.6                    0.258   \n",
       "8757     21.5       0.0            980.8                    0.258   \n",
       "8758     20.1       0.0            980.8                    0.258   \n",
       "8759     18.8       0.0            980.9                    0.258   \n",
       "\n",
       "      soil_moist_7_to_28cm(m3)  radiation(W/m2)  river_discharge(m3/s)  \\\n",
       "0                        0.278              0.0                  48.77   \n",
       "1                        0.278              0.0                  48.77   \n",
       "2                        0.278              0.0                  48.77   \n",
       "3                        0.278              0.0                  48.77   \n",
       "4                        0.278              0.0                  48.77   \n",
       "...                        ...              ...                    ...   \n",
       "8755                     0.279            460.0                  85.30   \n",
       "8756                     0.279            247.0                  85.30   \n",
       "8757                     0.279             55.0                  85.30   \n",
       "8758                     0.279              0.0                  85.30   \n",
       "8759                     0.279              0.0                  85.30   \n",
       "\n",
       "            Wx         Wy       day_sin   day_cos  month_sin  month_cos  \\\n",
       "0     3.935789  -2.181643 -2.239978e-12  1.000000  -0.081451   0.996677   \n",
       "1     3.935789  -2.181643  2.588190e-01  0.965926  -0.072875   0.997341   \n",
       "2     3.960296  -1.061158  5.000000e-01  0.866025  -0.064294   0.997931   \n",
       "3     3.580279   0.376302  7.071068e-01  0.707107  -0.055708   0.998447   \n",
       "4     3.632021   0.705993  8.660254e-01  0.500000  -0.047118   0.998889   \n",
       "...        ...        ...           ...       ...        ...        ...   \n",
       "8755 -6.478708 -12.184677 -9.659258e-01  0.258819  -0.173722   0.984795   \n",
       "8756 -4.734408  -9.706976 -8.660254e-01  0.500000  -0.165245   0.986252   \n",
       "8757 -1.761397  -5.421022 -7.071068e-01  0.707107  -0.156756   0.987637   \n",
       "8758 -1.427339  -5.724745 -5.000000e-01  0.866025  -0.148255   0.988949   \n",
       "8759 -1.449387  -5.409185 -2.588190e-01  0.965926  -0.139744   0.990188   \n",
       "\n",
       "      year_sin  year_cos  \n",
       "0    -0.006795  0.999977  \n",
       "1    -0.006078  0.999982  \n",
       "2    -0.005362  0.999986  \n",
       "3    -0.004645  0.999989  \n",
       "4    -0.003928  0.999992  \n",
       "...        ...       ...  \n",
       "8755 -0.014550  0.999894  \n",
       "8756 -0.013833  0.999904  \n",
       "8757 -0.013117  0.999914  \n",
       "8758 -0.012400  0.999923  \n",
       "8759 -0.011683  0.999932  \n",
       "\n",
       "[8760 rows x 15 columns]"
      ]
     },
     "execution_count": 29,
     "metadata": {},
     "output_type": "execute_result"
    }
   ],
   "source": [
    "fold = folds[0]\n",
    "fold"
   ]
  },
  {
   "cell_type": "markdown",
   "metadata": {},
   "source": [
    "# Train/Test split in the fold"
   ]
  },
  {
   "cell_type": "markdown",
   "metadata": {},
   "source": [
    "### Defining global variables"
   ]
  },
  {
   "cell_type": "code",
   "execution_count": 60,
   "metadata": {},
   "outputs": [],
   "source": [
    "# Input lenght of 2 week\n",
    "INPUT_LENGTH = 24 * 14\n",
    "\n",
    "# Horizon of 1 day\n",
    "HORIZON = 24"
   ]
  },
  {
   "cell_type": "markdown",
   "metadata": {},
   "source": [
    "### Defining train/test split function"
   ]
  },
  {
   "cell_type": "code",
   "execution_count": 31,
   "metadata": {},
   "outputs": [],
   "source": [
    "def train_test_split(fold:pd.DataFrame,\n",
    "                     train_test_ratio: float,\n",
    "                     input_length: int) -> tuple[pd.DataFrame]:\n",
    "    \"\"\"From a fold dataframe, take a train dataframe and test dataframe based on \n",
    "    the split ratio.\n",
    "    - df_train should contain all the timesteps until round(train_test_ratio * len(fold))\n",
    "    - df_test should contain all the timesteps needed to create all (X_test, y_test) tuples\n",
    "\n",
    "    Args:\n",
    "        fold (pd.DataFrame): A fold of timesteps\n",
    "        train_test_ratio (float): The ratio between train and test 0-1\n",
    "        input_length (int): How long each X_i will be\n",
    "\n",
    "    Returns:\n",
    "        Tuple[pd.DataFrame]: A tuple of two dataframes (fold_train, fold_test)\n",
    "    \"\"\"\n",
    "    \n",
    "    # TRAIN SET\n",
    "    last_train_idx = round(train_test_ratio * len(fold))\n",
    "    fold_train = fold.iloc[0:last_train_idx, :]\n",
    "\n",
    "    # TEST SET\n",
    "    first_test_idx = last_train_idx - input_length\n",
    "    fold_test = fold.iloc[first_test_idx:, :]\n",
    "    \n",
    "\n",
    "    return (fold_train, fold_test)"
   ]
  },
  {
   "cell_type": "markdown",
   "metadata": {},
   "source": [
    "### Defining fold train and fold test inside fold"
   ]
  },
  {
   "cell_type": "code",
   "execution_count": 32,
   "metadata": {},
   "outputs": [],
   "source": [
    "(fold_train, fold_test) = train_test_split(fold, TRAIN_TEST_RATIO, INPUT_LENGTH)"
   ]
  },
  {
   "cell_type": "code",
   "execution_count": 33,
   "metadata": {},
   "outputs": [
    {
     "name": "stdout",
     "output_type": "stream",
     "text": [
      "N_FEATURES = 14\n",
      "INPUT_LENGTH = 168 timesteps = 7 days\n"
     ]
    }
   ],
   "source": [
    "# INPUT X\n",
    "print(f'INPUT_LENGTH = {INPUT_LENGTH} timesteps = {int(INPUT_LENGTH/24)} days')"
   ]
  },
  {
   "cell_type": "code",
   "execution_count": 34,
   "metadata": {},
   "outputs": [
    {
     "name": "stdout",
     "output_type": "stream",
     "text": [
      "N_TARGETS = 1\n",
      "OUTPUT_LENGTH = 1\n"
     ]
    }
   ],
   "source": [
    "# TARGET Y\n",
    "print(f'N_TARGETS = {N_TARGETS}')\n",
    "# we predict only one value ahead of us (1 hour ahead)\n",
    "OUTPUT_LENGTH = 1\n",
    "print(f'OUTPUT_LENGTH = {OUTPUT_LENGTH}')"
   ]
  },
  {
   "cell_type": "markdown",
   "metadata": {},
   "source": [
    "# Create (X, y) inside each 'split' by random sampling"
   ]
  },
  {
   "cell_type": "markdown",
   "metadata": {},
   "source": [
    "### Get one sample (Xi, yi)"
   ]
  },
  {
   "cell_type": "code",
   "execution_count": 35,
   "metadata": {},
   "outputs": [],
   "source": [
    "def get_Xi_yi(\n",
    "    fold:pd.DataFrame, \n",
    "    input_length:int, \n",
    "    output_length:int) -> tuple[pd.DataFrame]:\n",
    "    \"\"\"given a fold, it returns one sequence (X_i, y_i) as based on the desired \n",
    "    input_length and output_length with the starting point of the sequence being chosen at random based\n",
    "\n",
    "    Args:\n",
    "        fold (pd.DataFrame): A single fold\n",
    "        input_length (int): How long each X_i should be \n",
    "        output_length (int): How long each y_i should be\n",
    "\n",
    "    Returns:\n",
    "        Tuple[pd.DataFrame]: A tuple of two dataframes (X_i, y_i)\n",
    "    \"\"\"\n",
    "    \n",
    "    if fold.isnull().values.any():\n",
    "        raise ValueError('fold contains NaN values')\n",
    "\n",
    "    first_possible_start = 0\n",
    "    last_possible_start = len(fold) - (input_length + output_length) + 1\n",
    "    random_start = np.random.randint(first_possible_start, last_possible_start)\n",
    "    X_i = fold.iloc[random_start:random_start+input_length]    \n",
    "    y_i = fold.iloc[random_start+input_length:\n",
    "                  random_start+input_length+output_length][[TARGET]]\n",
    "    \n",
    "    return (X_i, y_i)"
   ]
  },
  {
   "cell_type": "markdown",
   "metadata": {},
   "source": [
    "### Get (X, y) from multiple samples"
   ]
  },
  {
   "cell_type": "code",
   "execution_count": 36,
   "metadata": {},
   "outputs": [],
   "source": [
    "def get_X_y(\n",
    "    fold:pd.DataFrame,\n",
    "    number_of_sequences:int,\n",
    "    input_length:int,\n",
    "    output_length:int) -> tuple[np.array]:\n",
    "    \"\"\"Given a fold generate X and y based on the number of desired sequences \n",
    "    of the given input_length and output_length\n",
    "\n",
    "    Args:\n",
    "        fold (pd.DataFrame): Fold dataframe\n",
    "        number_of_sequences (int): The number of X_i and y_i pairs to include\n",
    "        input_length (int): Length of each X_i\n",
    "        output_length (int): Length of each y_i\n",
    "\n",
    "    Returns:\n",
    "        Tuple[np.array]: A tuple of numpy arrays (X, y):\n",
    "            X.shape = (n_samples, input_length, n_covariates)\n",
    "            y.shape =\n",
    "                (n_samples, output_length, n_targets) if all 3-dimensions are of size > 1\n",
    "                (n_samples, output_length) if n_targets == 1\n",
    "                (n_samples, n_targets) if output_length == 1\n",
    "                (n_samples, ) if both n_targets and lenghts == 1   \n",
    "    \"\"\"\n",
    "  \n",
    "    X, y = [], []\n",
    "\n",
    "    for i in range(number_of_sequences):\n",
    "        (Xi, yi) = get_Xi_yi(fold, input_length, output_length)\n",
    "        X.append(Xi)\n",
    "        y.append(yi)\n",
    "        \n",
    "    return np.array(X), np.array(y)"
   ]
  },
  {
   "cell_type": "markdown",
   "metadata": {},
   "source": [
    "### Choosing randomly the number of samples"
   ]
  },
  {
   "cell_type": "code",
   "execution_count": 38,
   "metadata": {},
   "outputs": [],
   "source": [
    "# Choosing randomly the number of samples\n",
    "N_TRAIN = 666 # number_of_samples_train\n",
    "N_TEST =  333 # number_of_samples_test"
   ]
  },
  {
   "cell_type": "code",
   "execution_count": 39,
   "metadata": {},
   "outputs": [],
   "source": [
    "X_train_rand, y_train_rand = get_X_y(fold_train, N_TRAIN, INPUT_LENGTH, OUTPUT_LENGTH)\n",
    "X_test_rand, y_test_rand = get_X_y(fold_test, N_TEST, INPUT_LENGTH, OUTPUT_LENGTH)"
   ]
  },
  {
   "cell_type": "code",
   "execution_count": 40,
   "metadata": {},
   "outputs": [
    {
     "name": "stdout",
     "output_type": "stream",
     "text": [
      "(666, 168, 15)\n",
      "(666, 1, 1)\n"
     ]
    }
   ],
   "source": [
    "print(X_train_rand.shape)\n",
    "print(y_train_rand.shape)"
   ]
  },
  {
   "cell_type": "markdown",
   "metadata": {},
   "source": [
    "# Create (X, y) insise each 'split' by scanning  chronologically "
   ]
  },
  {
   "cell_type": "markdown",
   "metadata": {},
   "source": [
    "### Defininf get strides function"
   ]
  },
  {
   "cell_type": "code",
   "execution_count": 65,
   "metadata": {},
   "outputs": [],
   "source": [
    "def get_X_y_strides(fold: pd.DataFrame, input_length: int, output_length: int, horizon: int, \n",
    "    sequence_stride: int) -> tuple[np.array]:\n",
    "    \"\"\"slides through a `fold` Time Series (2D array) to create sequences of equal\n",
    "        * `input_length` for X,\n",
    "        * `output_length` for y,\n",
    "    using a temporal gap `sequence_stride` between each sequence\n",
    "\n",
    "    Args:\n",
    "        fold (pd.DataFrame): One single fold dataframe\n",
    "        input_length (int): Length of each X_i\n",
    "        output_length (int): Length of each y_i\n",
    "        sequence_stride (int): How many timesteps to take before taking the next X_i\n",
    "\n",
    "    Returns:\n",
    "        Tuple[np.array]: A tuple of numpy arrays (X, y)\n",
    "    \"\"\"\n",
    "    X, y = [], []\n",
    "\n",
    "    for i in range(0, len(fold), sequence_stride):\n",
    "        # Exits the loop as soon as the last fold index would exceed the last index\n",
    "        if (i + input_length + output_length + horizon) >= len(fold):\n",
    "            break\n",
    "        X_i = fold.iloc[i:i + input_length, :]\n",
    "        y_i = fold.iloc[i + input_length + horizon - 1:i + input_length + horizon - 1 + output_length, :][[TARGET]]\n",
    "        X.append(X_i)\n",
    "        y.append(y_i)\n",
    "\n",
    "    return (np.array(X), np.array(y))"
   ]
  },
  {
   "cell_type": "markdown",
   "metadata": {},
   "source": [
    "### Defining the \"sequence_stride\""
   ]
  },
  {
   "cell_type": "code",
   "execution_count": 66,
   "metadata": {},
   "outputs": [],
   "source": [
    "# \"sequence_stride\" = how many timestamps in the future you move between one sample and the other\n",
    "SEQUENCE_STRIDE = 8"
   ]
  },
  {
   "cell_type": "code",
   "execution_count": 43,
   "metadata": {},
   "outputs": [
    {
     "name": "stdout",
     "output_type": "stream",
     "text": [
      "FOLD_LENGTH\n",
      "= 8760 timesteps\n",
      "= 365 days\n",
      "= 52 weeks\n"
     ]
    }
   ],
   "source": [
    "print(\"FOLD_LENGTH\") \n",
    "print(f\"= {FOLD_LENGTH} timesteps\")\n",
    "print(f\"= {int(FOLD_LENGTH/24)} days\")\n",
    "print(f\"= {int(FOLD_LENGTH/24/7)} weeks\")"
   ]
  },
  {
   "cell_type": "code",
   "execution_count": 44,
   "metadata": {},
   "outputs": [
    {
     "name": "stdout",
     "output_type": "stream",
     "text": [
      "(702, 168, 15)\n",
      "(702, 1, 1)\n"
     ]
    }
   ],
   "source": [
    "X_train_ch, y_train_ch = get_X_y_strides(fold_train, INPUT_LENGTH, OUTPUT_LENGTH, SEQUENCE_STRIDE)\n",
    "X_test_ch, y_test_ch = get_X_y_strides(fold_test, INPUT_LENGTH, OUTPUT_LENGTH, SEQUENCE_STRIDE)\n",
    "\n",
    "print(X_train_ch.shape)\n",
    "print(y_train_ch.shape)"
   ]
  },
  {
   "cell_type": "markdown",
   "metadata": {},
   "source": [
    "# Baseline"
   ]
  },
  {
   "cell_type": "markdown",
   "metadata": {},
   "source": [
    "### Baseline model that uses the last seen value as y_pred"
   ]
  },
  {
   "cell_type": "code",
   "execution_count": 75,
   "metadata": {},
   "outputs": [],
   "source": [
    "from tensorflow.keras.layers import Lambda\n",
    "\n",
    "def init_baseline(horizon: int, output_lenght=1):\n",
    "\n",
    "    model = models.Sequential()\n",
    "    model.add(layers.Lambda(lambda x: x[:,-1,1,None]))\n",
    "\n",
    "    adam = optimizers.Adam(learning_rate=0.02)\n",
    "    model.compile(loss='mse', optimizer=adam, metrics=[\"mae\"])\n",
    "\n",
    "    return model"
   ]
  },
  {
   "cell_type": "code",
   "execution_count": null,
   "metadata": {},
   "outputs": [],
   "source": []
  },
  {
   "cell_type": "markdown",
   "metadata": {},
   "source": [
    "# Modeling"
   ]
  },
  {
   "cell_type": "markdown",
   "metadata": {},
   "source": [
    "### Defining model functions"
   ]
  },
  {
   "cell_type": "code",
   "execution_count": 46,
   "metadata": {},
   "outputs": [],
   "source": [
    "def plot_history(history):\n",
    "    \n",
    "    fig, ax = plt.subplots(1,2, figsize=(20,7))\n",
    "    # --- LOSS: MSE --- \n",
    "    ax[0].plot(history.history['loss'])\n",
    "    ax[0].plot(history.history['val_loss'])\n",
    "    ax[0].set_title('MSE')\n",
    "    ax[0].set_ylabel('Loss')\n",
    "    ax[0].set_xlabel('Epoch')\n",
    "    ax[0].legend(['Train', 'Validation'], loc='best')\n",
    "    ax[0].grid(axis=\"x\",linewidth=0.5)\n",
    "    ax[0].grid(axis=\"y\",linewidth=0.5)\n",
    "    \n",
    "    # --- METRICS:MAE ---\n",
    "    \n",
    "    ax[1].plot(history.history['mae'])\n",
    "    ax[1].plot(history.history['val_mae'])\n",
    "    ax[1].set_title('MAE')\n",
    "    ax[1].set_ylabel('MAE')\n",
    "    ax[1].set_xlabel('Epoch')\n",
    "    ax[1].legend(['Train', 'Validation'], loc='best')\n",
    "    ax[1].grid(axis=\"x\",linewidth=0.5)\n",
    "    ax[1].grid(axis=\"y\",linewidth=0.5)\n",
    "                        \n",
    "    return ax"
   ]
  },
  {
   "cell_type": "code",
   "execution_count": 73,
   "metadata": {},
   "outputs": [],
   "source": [
    "from tensorflow.keras import models\n",
    "from tensorflow.keras import layers\n",
    "from tensorflow.keras import optimizers, metrics\n",
    "from tensorflow.keras.regularizers import L1L2\n",
    "from tensorflow.keras.layers.experimental.preprocessing import Normalization\n",
    "from tensorflow.keras import regularizers\n",
    "\n",
    "def init_model(X_train, y_train):\n",
    "    \n",
    "    # Normalization\n",
    "    normalizer = Normalization()\n",
    "    normalizer.adapt(X_train)\n",
    "    \n",
    "    # RNN architecture \n",
    "    model = models.Sequential()\n",
    "    \n",
    "    ## All the rows will be standardized through the already adapted normalization layer\n",
    "    model.add(normalizer)\n",
    "    model.add(layers.LSTM(64, \n",
    "                          activation='tanh', \n",
    "                          return_sequences = False,\n",
    "                          #kernel_regularizer=L1L2(l1=0.05, l2=0.05),\n",
    "                          ))\n",
    "\n",
    "    # Hidden Dense Layer that we are regularizing\n",
    "    reg_l2 = regularizers.L2(0.5)\n",
    "    model.add(layers.Dense(32, activation='relu', kernel_regularizer=reg_l2))\n",
    "    model.add(layers.Dropout(rate=0.5))\n",
    "    \n",
    "    ## Predictive Dense Layers\n",
    "    output_length = y_train.shape[1]\n",
    "    model.add(layers.Dense(output_length, activation='linear'))\n",
    "\n",
    "    # Compiler \n",
    "    adam = optimizers.Adam(learning_rate=0.01)    \n",
    "    model.compile(loss='mse', optimizer=adam, metrics=[\"mae\"])\n",
    "    \n",
    "    return model"
   ]
  },
  {
   "cell_type": "code",
   "execution_count": 69,
   "metadata": {},
   "outputs": [],
   "source": [
    "from tensorflow import keras\n",
    "from keras.callbacks import EarlyStopping\n",
    "\n",
    "def fit_model(model: tf.keras.Model, X_train, y_train, verbose=1) -> tuple[tf.keras.Model, dict]:\n",
    "\n",
    " \n",
    "    es = EarlyStopping(monitor = \"val_loss\",\n",
    "                      patience = 3,\n",
    "                      mode = \"min\",\n",
    "                      restore_best_weights = True)\n",
    "\n",
    "\n",
    "    history = model.fit(X_train, y_train,\n",
    "                        validation_split = 0.3,\n",
    "                        shuffle = False,\n",
    "                        batch_size = 32,\n",
    "                        epochs = 50,\n",
    "                        callbacks = [es],\n",
    "                        verbose = verbose)\n",
    "\n",
    "    return model, history"
   ]
  },
  {
   "cell_type": "markdown",
   "metadata": {},
   "source": [
    "### Training with the whole dataset"
   ]
  },
  {
   "cell_type": "code",
   "execution_count": 62,
   "metadata": {},
   "outputs": [
    {
     "name": "stdout",
     "output_type": "stream",
     "text": [
      "8\n"
     ]
    }
   ],
   "source": [
    "print(SEQUENCE_STRIDE)"
   ]
  },
  {
   "cell_type": "code",
   "execution_count": 71,
   "metadata": {},
   "outputs": [],
   "source": [
    "(whole_train, whole_test) = train_test_split(df, TRAIN_TEST_RATIO, INPUT_LENGTH)\n",
    "X_train_ch, y_train_ch = get_X_y_strides(whole_train, INPUT_LENGTH, OUTPUT_LENGTH, HORIZON, SEQUENCE_STRIDE)"
   ]
  },
  {
   "cell_type": "code",
   "execution_count": 74,
   "metadata": {},
   "outputs": [
    {
     "name": "stdout",
     "output_type": "stream",
     "text": [
      "Model: \"sequential_4\"\n",
      "_________________________________________________________________\n",
      " Layer (type)                Output Shape              Param #   \n",
      "=================================================================\n",
      " normalization_4 (Normalizat  (None, None, 15)         31        \n",
      " ion)                                                            \n",
      "                                                                 \n",
      " lstm_6 (LSTM)               (None, 64)                20480     \n",
      "                                                                 \n",
      " dense_6 (Dense)             (None, 32)                2080      \n",
      "                                                                 \n",
      " dropout (Dropout)           (None, 32)                0         \n",
      "                                                                 \n",
      " dense_7 (Dense)             (None, 1)                 33        \n",
      "                                                                 \n",
      "=================================================================\n",
      "Total params: 22,624\n",
      "Trainable params: 22,593\n",
      "Non-trainable params: 31\n",
      "_________________________________________________________________\n",
      "Epoch 1/50\n",
      "760/760 [==============================] - 54s 70ms/step - loss: 2257.8542 - mae: 22.4097 - val_loss: 2393.7534 - val_mae: 42.8017\n",
      "Epoch 2/50\n",
      "760/760 [==============================] - 53s 70ms/step - loss: 1274.0643 - mae: 16.8458 - val_loss: 1306.0887 - val_mae: 30.1450\n",
      "Epoch 3/50\n",
      "760/760 [==============================] - 52s 68ms/step - loss: 1082.6497 - mae: 15.0944 - val_loss: 1003.3339 - val_mae: 24.5275\n",
      "Epoch 4/50\n",
      "760/760 [==============================] - 52s 69ms/step - loss: 984.7060 - mae: 13.8625 - val_loss: 852.9281 - val_mae: 22.4089\n",
      "Epoch 5/50\n",
      "760/760 [==============================] - 53s 69ms/step - loss: 927.4597 - mae: 12.7405 - val_loss: 660.6581 - val_mae: 18.8157\n",
      "Epoch 6/50\n",
      "760/760 [==============================] - 53s 69ms/step - loss: 885.7839 - mae: 12.0918 - val_loss: 727.4481 - val_mae: 20.0439\n",
      "Epoch 7/50\n",
      "760/760 [==============================] - 53s 70ms/step - loss: 814.5225 - mae: 11.9421 - val_loss: 549.3760 - val_mae: 16.1199\n",
      "Epoch 8/50\n",
      "760/760 [==============================] - 53s 69ms/step - loss: 817.1189 - mae: 11.7427 - val_loss: 602.5388 - val_mae: 17.5420\n",
      "Epoch 9/50\n",
      "760/760 [==============================] - 53s 69ms/step - loss: 786.0030 - mae: 11.4060 - val_loss: 584.3370 - val_mae: 17.0448\n",
      "Epoch 10/50\n",
      "760/760 [==============================] - 53s 69ms/step - loss: 777.4916 - mae: 11.0881 - val_loss: 544.0192 - val_mae: 16.4470\n",
      "Epoch 11/50\n",
      "760/760 [==============================] - 53s 70ms/step - loss: 734.4881 - mae: 10.8027 - val_loss: 432.4362 - val_mae: 12.5262\n",
      "Epoch 12/50\n",
      "760/760 [==============================] - 53s 70ms/step - loss: 732.1342 - mae: 10.7198 - val_loss: 505.1732 - val_mae: 15.0653\n",
      "Epoch 13/50\n",
      "760/760 [==============================] - 53s 70ms/step - loss: 749.1860 - mae: 10.4381 - val_loss: 429.4028 - val_mae: 12.9470\n",
      "Epoch 14/50\n",
      "760/760 [==============================] - 53s 69ms/step - loss: 721.3867 - mae: 10.4624 - val_loss: 471.7446 - val_mae: 13.9269\n",
      "Epoch 15/50\n",
      "760/760 [==============================] - 54s 71ms/step - loss: 712.1592 - mae: 10.3288 - val_loss: 482.3429 - val_mae: 14.7817\n",
      "Epoch 16/50\n",
      "760/760 [==============================] - 53s 69ms/step - loss: 734.9827 - mae: 10.1657 - val_loss: 426.2010 - val_mae: 12.5389\n",
      "Epoch 17/50\n",
      "760/760 [==============================] - 53s 69ms/step - loss: 708.7844 - mae: 10.1861 - val_loss: 421.2531 - val_mae: 12.1940\n",
      "Epoch 18/50\n",
      "760/760 [==============================] - 53s 70ms/step - loss: 712.5060 - mae: 10.0156 - val_loss: 426.9495 - val_mae: 13.4284\n",
      "Epoch 19/50\n",
      "760/760 [==============================] - 53s 69ms/step - loss: 667.5640 - mae: 9.9586 - val_loss: 414.0434 - val_mae: 12.7339\n",
      "Epoch 20/50\n",
      "760/760 [==============================] - 52s 69ms/step - loss: 684.7704 - mae: 10.2384 - val_loss: 407.4239 - val_mae: 12.7932\n",
      "Epoch 21/50\n",
      "760/760 [==============================] - 53s 70ms/step - loss: 663.6925 - mae: 10.1148 - val_loss: 411.8098 - val_mae: 12.9767\n",
      "Epoch 22/50\n",
      "760/760 [==============================] - 53s 70ms/step - loss: 684.8123 - mae: 9.9351 - val_loss: 389.5208 - val_mae: 12.0904\n",
      "Epoch 23/50\n",
      "760/760 [==============================] - 54s 71ms/step - loss: 671.6205 - mae: 10.2916 - val_loss: 373.2092 - val_mae: 11.2176\n",
      "Epoch 24/50\n",
      "760/760 [==============================] - 55s 73ms/step - loss: 677.8940 - mae: 10.4870 - val_loss: 408.9579 - val_mae: 13.3995\n",
      "Epoch 25/50\n",
      "760/760 [==============================] - 54s 71ms/step - loss: 655.2253 - mae: 10.2525 - val_loss: 395.8153 - val_mae: 12.5469\n",
      "Epoch 26/50\n",
      "760/760 [==============================] - 53s 69ms/step - loss: 676.0873 - mae: 10.4483 - val_loss: 447.3080 - val_mae: 13.8549\n"
     ]
    }
   ],
   "source": [
    "# Initialising the RNN model\n",
    "\n",
    "model = init_model(X_train_ch, y_train_ch)\n",
    "model.summary()\n",
    "\n",
    "# Training\n",
    "model, history = fit_model(model, X_train_ch, y_train_ch)"
   ]
  },
  {
   "cell_type": "code",
   "execution_count": 76,
   "metadata": {},
   "outputs": [
    {
     "data": {
      "image/png": "[encoded data removed]",
      "text/plain": [
       "<Figure size 2000x700 with 2 Axes>"
      ]
     },
     "metadata": {},
     "output_type": "display_data"
    }
   ],
   "source": [
    "plot_history(history);"
   ]
  }
 ],
 "metadata": {
  "kernelspec": {
   "display_name": "lewagon",
   "language": "python",
   "name": "python3"
  },
  "language_info": {
   "codemirror_mode": {
    "name": "ipython",
    "version": 3
   },
   "file_extension": ".py",
   "mimetype": "text/x-python",
   "name": "python",
   "nbconvert_exporter": "python",
   "pygments_lexer": "ipython3",
   "version": "3.10.6"
  },
  "orig_nbformat": 4
 },
 "nbformat": 4,
 "nbformat_minor": 2
}
