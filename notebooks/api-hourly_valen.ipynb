{
 "cells": [
  {
   "cell_type": "code",
   "execution_count": null,
   "metadata": {},
   "outputs": [],
   "source": [
    "import pandas as pd\n",
    "import requests\n",
    "import matplotlib.pyplot as plt\n",
    "\n",
    "plt.style.use('Solarize_Light2')"
   ]
  },
  {
   "cell_type": "markdown",
   "metadata": {},
   "source": [
    "# Variables"
   ]
  },
  {
   "cell_type": "code",
   "execution_count": null,
   "metadata": {},
   "outputs": [],
   "source": [
    "TALAGANTE_LAT = -33.714913\n",
    "TALAGANTE_LON= -70.957909"
   ]
  },
  {
   "cell_type": "markdown",
   "metadata": {},
   "source": [
    "# API Flood Data"
   ]
  },
  {
   "cell_type": "code",
   "execution_count": null,
   "metadata": {},
   "outputs": [],
   "source": [
    "base_url_flood = \"https://flood-api.open-meteo.com/v1/flood\"\n",
    "\n",
    "params_flood = {\n",
    "    \"latitude\": TALAGANTE_LAT,\n",
    "    \"longitude\": TALAGANTE_LON,\n",
    "    \"daily\": \"river_discharge\",\n",
    "    \"start_date\": \"1984-01-01\",\n",
    "    \"end_date\": \"2023-09-05\",\n",
    "    \"models\": \"seamless_v4\"\n",
    "}\n",
    "\n",
    "response_flood = requests.get(base_url_flood, params=params_flood)\n",
    "\n",
    "data_flood = response_flood.json()\n",
    "data_flood"
   ]
  },
  {
   "cell_type": "code",
   "execution_count": null,
   "metadata": {},
   "outputs": [],
   "source": [
    "data_flood['daily'].keys()"
   ]
  },
  {
   "cell_type": "code",
   "execution_count": null,
   "metadata": {},
   "outputs": [],
   "source": [
    "df_flood = pd.DataFrame(data= data_flood, columns=['date', 'river_discharge'])\n",
    "df_flood"
   ]
  },
  {
   "cell_type": "code",
   "execution_count": null,
   "metadata": {},
   "outputs": [],
   "source": [
    "df_flood['date'] = data_flood['daily']['time']\n",
    "df_flood['river_discharge'] = data_flood['daily']['river_discharge']\n",
    "df_flood.set_index('date', inplace=True)\n",
    "df_flood"
   ]
  },
  {
   "cell_type": "code",
   "execution_count": null,
   "metadata": {},
   "outputs": [],
   "source": [
    "df_flood.isnull().mean()"
   ]
  },
  {
   "cell_type": "code",
   "execution_count": null,
   "metadata": {},
   "outputs": [],
   "source": [
    "# checking which rows have missing values\n",
    "df_flood[df_flood.isnull().any(axis=1)]"
   ]
  },
  {
   "cell_type": "code",
   "execution_count": null,
   "metadata": {},
   "outputs": [],
   "source": [
    "# df_flood.loc['2016-04-01':'2016-04-30']"
   ]
  },
  {
   "cell_type": "code",
   "execution_count": null,
   "metadata": {},
   "outputs": [],
   "source": [
    "# checking days around the missing values\n",
    "# df_flood.loc['2023-08-01':'2023-08-07']"
   ]
  },
  {
   "cell_type": "code",
   "execution_count": null,
   "metadata": {},
   "outputs": [],
   "source": [
    "# dropping missing values\n",
    "# df_flood.dropna(inplace=True)"
   ]
  },
  {
   "cell_type": "code",
   "execution_count": null,
   "metadata": {},
   "outputs": [],
   "source": [
    "df_flood.head(5)"
   ]
  },
  {
   "cell_type": "markdown",
   "metadata": {},
   "source": [
    "# API Weather Data"
   ]
  },
  {
   "cell_type": "code",
   "execution_count": null,
   "metadata": {},
   "outputs": [],
   "source": [
    "base_url_weather = \"https://archive-api.open-meteo.com/v1/archive\"\n",
    "\n",
    "params_weather = {\n",
    "    \"latitude\": TALAGANTE_LAT,\n",
    "    \"longitude\": TALAGANTE_LON,\n",
    "    \"start_date\": \"1984-01-01\",\n",
    "    \"end_date\": \"2023-09-05\",\n",
    "    \"hourly\": \"temperature_2m,rain,surface_pressure,windspeed_10m,winddirection_10m,soil_moisture_0_to_7cm,soil_moisture_7_to_28cm,shortwave_radiation\",\n",
    "    \"timezone\": \"auto\"\n",
    "}\n",
    "\n",
    "response_weather = requests.get(base_url_weather, params=params_weather)\n",
    "\n",
    "data_weather = response_weather.json()\n",
    "data_weather"
   ]
  },
  {
   "cell_type": "code",
   "execution_count": null,
   "metadata": {},
   "outputs": [],
   "source": [
    "data_weather['hourly'].keys()"
   ]
  },
  {
   "cell_type": "code",
   "execution_count": null,
   "metadata": {},
   "outputs": [],
   "source": [
    "df_weather = pd.DataFrame(data= data_weather, columns= ['date', 'temperature', 'rain', 'surface_pressure', 'windspeed', 'winddirection', 'oil_moisture_0_to_7cm', 'soil_moisture_7_to_28cm', 'radiation'])\n",
    "df_weather"
   ]
  },
  {
   "cell_type": "code",
   "execution_count": null,
   "metadata": {},
   "outputs": [],
   "source": [
    "df_weather['date'] = data_weather['hourly']['time']\n",
    "df_weather['temperature'] = data_weather['hourly']['temperature_2m']\n",
    "df_weather['rain'] = data_weather['hourly']['rain']\n",
    "df_weather['surface_pressure'] = data_weather['hourly']['surface_pressure']\n",
    "df_weather['windspeed'] = data_weather['hourly']['windspeed_10m']\n",
    "df_weather['winddirection'] = data_weather['hourly']['winddirection_10m']\n",
    "df_weather['oil_moisture_0_to_7cm'] = data_weather['hourly']['soil_moisture_0_to_7cm']\n",
    "df_weather['soil_moisture_7_to_28cm'] = data_weather['hourly']['soil_moisture_7_to_28cm']\n",
    "df_weather['radiation'] = data_weather['hourly']['shortwave_radiation']\n",
    "df_weather.set_index('date', inplace=True)\n",
    "df_weather"
   ]
  },
  {
   "cell_type": "code",
   "execution_count": null,
   "metadata": {},
   "outputs": [],
   "source": [
    "# getting percentage of missing values\n",
    "df_weather.isnull().mean()"
   ]
  },
  {
   "cell_type": "code",
   "execution_count": null,
   "metadata": {},
   "outputs": [],
   "source": [
    "# checking which rows have missing values\n",
    "df_weather[df_weather.isnull().any(axis=1)]"
   ]
  },
  {
   "cell_type": "code",
   "execution_count": null,
   "metadata": {},
   "outputs": [],
   "source": [
    "# if 5 or more rows in a row have missing values, drop them\n",
    "df_weather.dropna(thresh=5, inplace=True)"
   ]
  },
  {
   "cell_type": "code",
   "execution_count": null,
   "metadata": {},
   "outputs": [],
   "source": [
    "df_weather.loc['2023-08-29T21:00':'2023-09-05T23:00']"
   ]
  },
  {
   "cell_type": "code",
   "execution_count": null,
   "metadata": {},
   "outputs": [],
   "source": [
    "# dropping rows with missing values\n",
    "# df_weather.dropna(inplace=True)\n",
    "# df_weather[df_weather.isnull().any(axis=1)]"
   ]
  },
  {
   "cell_type": "code",
   "execution_count": null,
   "metadata": {},
   "outputs": [],
   "source": [
    "df_weather.head(5)"
   ]
  },
  {
   "cell_type": "markdown",
   "metadata": {},
   "source": [
    "# Merging Weather and Flood Data"
   ]
  },
  {
   "cell_type": "code",
   "execution_count": null,
   "metadata": {},
   "outputs": [],
   "source": [
    "# setting the same index for both dataframes\n",
    "df_weather.index = pd.to_datetime(df_weather.index)\n",
    "df_flood.index = pd.to_datetime(df_flood.index)"
   ]
  },
  {
   "cell_type": "code",
   "execution_count": null,
   "metadata": {},
   "outputs": [],
   "source": [
    "# merging df flood and df weather\n",
    "# put every df_flood river_discharge column value in every hour of the day\n",
    "df_flood = df_flood.resample('H').ffill()\n",
    "df_flood"
   ]
  },
  {
   "cell_type": "code",
   "execution_count": null,
   "metadata": {},
   "outputs": [],
   "source": [
    "# merging df flood and df weather\n",
    "df = pd.merge(df_weather, df_flood, how='left', left_index=True, right_index=True)\n",
    "df"
   ]
  },
  {
   "cell_type": "code",
   "execution_count": null,
   "metadata": {},
   "outputs": [],
   "source": [
    "df.corr()"
   ]
  },
  {
   "cell_type": "code",
   "execution_count": null,
   "metadata": {},
   "outputs": [],
   "source": [
    "# sorting by river discharge\n",
    "df.sort_values(by='river_discharge', ascending=False, inplace=True)\n",
    "df"
   ]
  },
  {
   "cell_type": "markdown",
   "metadata": {},
   "source": [
    "# Saving Dataset to CSV"
   ]
  },
  {
   "cell_type": "code",
   "execution_count": null,
   "metadata": {},
   "outputs": [],
   "source": [
    "# sorting by date\n",
    "df.sort_index(inplace=True)\n",
    "\n",
    "# saving dataframe to csv\n",
    "df.to_csv('data/raw_data.csv')    "
   ]
  }
 ],
 "metadata": {
  "kernelspec": {
   "display_name": "lewagon",
   "language": "python",
   "name": "python3"
  },
  "language_info": {
   "codemirror_mode": {
    "name": "ipython",
    "version": 3
   },
   "file_extension": ".py",
   "mimetype": "text/x-python",
   "name": "python",
   "nbconvert_exporter": "python",
   "pygments_lexer": "ipython3",
   "version": "3.10.6"
  },
  "orig_nbformat": 4
 },
 "nbformat": 4,
 "nbformat_minor": 2
}
